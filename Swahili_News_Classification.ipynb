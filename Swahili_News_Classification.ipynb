{
  "nbformat": 4,
  "nbformat_minor": 0,
  "metadata": {
    "colab": {
      "name": "Swahili News Classification.ipynb",
      "provenance": [],
      "collapsed_sections": [],
      "authorship_tag": "ABX9TyMg92iIgbveofU/Z0I650e2",
      "include_colab_link": true
    },
    "kernelspec": {
      "name": "python3",
      "display_name": "Python 3"
    },
    "language_info": {
      "name": "python"
    },
    "accelerator": "GPU"
  },
  "cells": [
    {
      "cell_type": "markdown",
      "metadata": {
        "id": "view-in-github",
        "colab_type": "text"
      },
      "source": [
        "<a href=\"https://colab.research.google.com/github/KimaniKibuthu/Swahili-News-Classification/blob/main/Swahili_News_Classification.ipynb\" target=\"_parent\"><img src=\"https://colab.research.google.com/assets/colab-badge.svg\" alt=\"Open In Colab\"/></a>"
      ]
    },
    {
      "cell_type": "markdown",
      "metadata": {
        "id": "G4YQWG9XTqMM"
      },
      "source": [
        "# Swahili News Classification\n",
        "The objective of this hackathon is to develop a multi-class classification model to classify news content according to their specific categories specified.The model can be used by Swahili online news platforms to automatically group news according to their categories and help readers find the specific news they want to read. In addition, the model will contribute to a body of work ensuring that Swahili is represented in apps and other online products in the future."
      ]
    },
    {
      "cell_type": "markdown",
      "metadata": {
        "id": "g6ftZ8FuT2c2"
      },
      "source": [
        "The procedure will be:\n",
        "1. Data Obtainance and Preparation.\n",
        "2. Modelling and Evaluation."
      ]
    },
    {
      "cell_type": "markdown",
      "metadata": {
        "id": "XFBUegZLT_Zk"
      },
      "source": [
        "# Libraries"
      ]
    },
    {
      "cell_type": "code",
      "metadata": {
        "colab": {
          "base_uri": "https://localhost:8080/"
        },
        "id": "nWGT6FGXwxN2",
        "outputId": "51b0f15f-96a9-4280-cb9a-97ba1b7bb2b5"
      },
      "source": [
        "!pip install tensorflow_text"
      ],
      "execution_count": 1,
      "outputs": [
        {
          "output_type": "stream",
          "name": "stdout",
          "text": [
            "Requirement already satisfied: tensorflow_text in /usr/local/lib/python3.7/dist-packages (2.6.0)\n",
            "Requirement already satisfied: tensorflow-hub>=0.8.0 in /usr/local/lib/python3.7/dist-packages (from tensorflow_text) (0.12.0)\n",
            "Requirement already satisfied: tensorflow<2.7,>=2.6.0 in /usr/local/lib/python3.7/dist-packages (from tensorflow_text) (2.6.0)\n",
            "Requirement already satisfied: clang~=5.0 in /usr/local/lib/python3.7/dist-packages (from tensorflow<2.7,>=2.6.0->tensorflow_text) (5.0)\n",
            "Requirement already satisfied: flatbuffers~=1.12.0 in /usr/local/lib/python3.7/dist-packages (from tensorflow<2.7,>=2.6.0->tensorflow_text) (1.12)\n",
            "Requirement already satisfied: wheel~=0.35 in /usr/local/lib/python3.7/dist-packages (from tensorflow<2.7,>=2.6.0->tensorflow_text) (0.37.0)\n",
            "Requirement already satisfied: grpcio<2.0,>=1.37.0 in /usr/local/lib/python3.7/dist-packages (from tensorflow<2.7,>=2.6.0->tensorflow_text) (1.41.0)\n",
            "Requirement already satisfied: keras-preprocessing~=1.1.2 in /usr/local/lib/python3.7/dist-packages (from tensorflow<2.7,>=2.6.0->tensorflow_text) (1.1.2)\n",
            "Requirement already satisfied: protobuf>=3.9.2 in /usr/local/lib/python3.7/dist-packages (from tensorflow<2.7,>=2.6.0->tensorflow_text) (3.17.3)\n",
            "Requirement already satisfied: gast==0.4.0 in /usr/local/lib/python3.7/dist-packages (from tensorflow<2.7,>=2.6.0->tensorflow_text) (0.4.0)\n",
            "Requirement already satisfied: google-pasta~=0.2 in /usr/local/lib/python3.7/dist-packages (from tensorflow<2.7,>=2.6.0->tensorflow_text) (0.2.0)\n",
            "Requirement already satisfied: astunparse~=1.6.3 in /usr/local/lib/python3.7/dist-packages (from tensorflow<2.7,>=2.6.0->tensorflow_text) (1.6.3)\n",
            "Requirement already satisfied: tensorboard~=2.6 in /usr/local/lib/python3.7/dist-packages (from tensorflow<2.7,>=2.6.0->tensorflow_text) (2.6.0)\n",
            "Requirement already satisfied: wrapt~=1.12.1 in /usr/local/lib/python3.7/dist-packages (from tensorflow<2.7,>=2.6.0->tensorflow_text) (1.12.1)\n",
            "Requirement already satisfied: keras~=2.6 in /usr/local/lib/python3.7/dist-packages (from tensorflow<2.7,>=2.6.0->tensorflow_text) (2.6.0)\n",
            "Requirement already satisfied: tensorflow-estimator~=2.6 in /usr/local/lib/python3.7/dist-packages (from tensorflow<2.7,>=2.6.0->tensorflow_text) (2.6.0)\n",
            "Requirement already satisfied: numpy~=1.19.2 in /usr/local/lib/python3.7/dist-packages (from tensorflow<2.7,>=2.6.0->tensorflow_text) (1.19.5)\n",
            "Requirement already satisfied: opt-einsum~=3.3.0 in /usr/local/lib/python3.7/dist-packages (from tensorflow<2.7,>=2.6.0->tensorflow_text) (3.3.0)\n",
            "Requirement already satisfied: absl-py~=0.10 in /usr/local/lib/python3.7/dist-packages (from tensorflow<2.7,>=2.6.0->tensorflow_text) (0.12.0)\n",
            "Requirement already satisfied: six~=1.15.0 in /usr/local/lib/python3.7/dist-packages (from tensorflow<2.7,>=2.6.0->tensorflow_text) (1.15.0)\n",
            "Requirement already satisfied: h5py~=3.1.0 in /usr/local/lib/python3.7/dist-packages (from tensorflow<2.7,>=2.6.0->tensorflow_text) (3.1.0)\n",
            "Requirement already satisfied: termcolor~=1.1.0 in /usr/local/lib/python3.7/dist-packages (from tensorflow<2.7,>=2.6.0->tensorflow_text) (1.1.0)\n",
            "Requirement already satisfied: typing-extensions~=3.7.4 in /usr/local/lib/python3.7/dist-packages (from tensorflow<2.7,>=2.6.0->tensorflow_text) (3.7.4.3)\n",
            "Requirement already satisfied: cached-property in /usr/local/lib/python3.7/dist-packages (from h5py~=3.1.0->tensorflow<2.7,>=2.6.0->tensorflow_text) (1.5.2)\n",
            "Requirement already satisfied: requests<3,>=2.21.0 in /usr/local/lib/python3.7/dist-packages (from tensorboard~=2.6->tensorflow<2.7,>=2.6.0->tensorflow_text) (2.23.0)\n",
            "Requirement already satisfied: markdown>=2.6.8 in /usr/local/lib/python3.7/dist-packages (from tensorboard~=2.6->tensorflow<2.7,>=2.6.0->tensorflow_text) (3.3.4)\n",
            "Requirement already satisfied: setuptools>=41.0.0 in /usr/local/lib/python3.7/dist-packages (from tensorboard~=2.6->tensorflow<2.7,>=2.6.0->tensorflow_text) (57.4.0)\n",
            "Requirement already satisfied: tensorboard-data-server<0.7.0,>=0.6.0 in /usr/local/lib/python3.7/dist-packages (from tensorboard~=2.6->tensorflow<2.7,>=2.6.0->tensorflow_text) (0.6.1)\n",
            "Requirement already satisfied: google-auth<2,>=1.6.3 in /usr/local/lib/python3.7/dist-packages (from tensorboard~=2.6->tensorflow<2.7,>=2.6.0->tensorflow_text) (1.35.0)\n",
            "Requirement already satisfied: werkzeug>=0.11.15 in /usr/local/lib/python3.7/dist-packages (from tensorboard~=2.6->tensorflow<2.7,>=2.6.0->tensorflow_text) (1.0.1)\n",
            "Requirement already satisfied: google-auth-oauthlib<0.5,>=0.4.1 in /usr/local/lib/python3.7/dist-packages (from tensorboard~=2.6->tensorflow<2.7,>=2.6.0->tensorflow_text) (0.4.6)\n",
            "Requirement already satisfied: tensorboard-plugin-wit>=1.6.0 in /usr/local/lib/python3.7/dist-packages (from tensorboard~=2.6->tensorflow<2.7,>=2.6.0->tensorflow_text) (1.8.0)\n",
            "Requirement already satisfied: rsa<5,>=3.1.4 in /usr/local/lib/python3.7/dist-packages (from google-auth<2,>=1.6.3->tensorboard~=2.6->tensorflow<2.7,>=2.6.0->tensorflow_text) (4.7.2)\n",
            "Requirement already satisfied: cachetools<5.0,>=2.0.0 in /usr/local/lib/python3.7/dist-packages (from google-auth<2,>=1.6.3->tensorboard~=2.6->tensorflow<2.7,>=2.6.0->tensorflow_text) (4.2.4)\n",
            "Requirement already satisfied: pyasn1-modules>=0.2.1 in /usr/local/lib/python3.7/dist-packages (from google-auth<2,>=1.6.3->tensorboard~=2.6->tensorflow<2.7,>=2.6.0->tensorflow_text) (0.2.8)\n",
            "Requirement already satisfied: requests-oauthlib>=0.7.0 in /usr/local/lib/python3.7/dist-packages (from google-auth-oauthlib<0.5,>=0.4.1->tensorboard~=2.6->tensorflow<2.7,>=2.6.0->tensorflow_text) (1.3.0)\n",
            "Requirement already satisfied: importlib-metadata in /usr/local/lib/python3.7/dist-packages (from markdown>=2.6.8->tensorboard~=2.6->tensorflow<2.7,>=2.6.0->tensorflow_text) (4.8.1)\n",
            "Requirement already satisfied: pyasn1<0.5.0,>=0.4.6 in /usr/local/lib/python3.7/dist-packages (from pyasn1-modules>=0.2.1->google-auth<2,>=1.6.3->tensorboard~=2.6->tensorflow<2.7,>=2.6.0->tensorflow_text) (0.4.8)\n",
            "Requirement already satisfied: idna<3,>=2.5 in /usr/local/lib/python3.7/dist-packages (from requests<3,>=2.21.0->tensorboard~=2.6->tensorflow<2.7,>=2.6.0->tensorflow_text) (2.10)\n",
            "Requirement already satisfied: urllib3!=1.25.0,!=1.25.1,<1.26,>=1.21.1 in /usr/local/lib/python3.7/dist-packages (from requests<3,>=2.21.0->tensorboard~=2.6->tensorflow<2.7,>=2.6.0->tensorflow_text) (1.24.3)\n",
            "Requirement already satisfied: certifi>=2017.4.17 in /usr/local/lib/python3.7/dist-packages (from requests<3,>=2.21.0->tensorboard~=2.6->tensorflow<2.7,>=2.6.0->tensorflow_text) (2021.5.30)\n",
            "Requirement already satisfied: chardet<4,>=3.0.2 in /usr/local/lib/python3.7/dist-packages (from requests<3,>=2.21.0->tensorboard~=2.6->tensorflow<2.7,>=2.6.0->tensorflow_text) (3.0.4)\n",
            "Requirement already satisfied: oauthlib>=3.0.0 in /usr/local/lib/python3.7/dist-packages (from requests-oauthlib>=0.7.0->google-auth-oauthlib<0.5,>=0.4.1->tensorboard~=2.6->tensorflow<2.7,>=2.6.0->tensorflow_text) (3.1.1)\n",
            "Requirement already satisfied: zipp>=0.5 in /usr/local/lib/python3.7/dist-packages (from importlib-metadata->markdown>=2.6.8->tensorboard~=2.6->tensorflow<2.7,>=2.6.0->tensorflow_text) (3.6.0)\n"
          ]
        }
      ]
    },
    {
      "cell_type": "code",
      "metadata": {
        "colab": {
          "base_uri": "https://localhost:8080/",
          "height": 1000
        },
        "id": "1lCxF-JoXL8W",
        "outputId": "260012dd-6df7-4e01-87f7-03e658d67ead"
      },
      "source": [
        "!pip install ktrain"
      ],
      "execution_count": 57,
      "outputs": [
        {
          "output_type": "stream",
          "name": "stdout",
          "text": [
            "Collecting ktrain\n",
            "  Downloading ktrain-0.28.0.tar.gz (25.3 MB)\n",
            "\u001b[K     |████████████████████████████████| 25.3 MB 19 kB/s \n",
            "\u001b[?25hCollecting scikit-learn==0.23.2\n",
            "  Downloading scikit_learn-0.23.2-cp37-cp37m-manylinux1_x86_64.whl (6.8 MB)\n",
            "\u001b[K     |████████████████████████████████| 6.8 MB 37.4 MB/s \n",
            "\u001b[?25hRequirement already satisfied: matplotlib>=3.0.0 in /usr/local/lib/python3.7/dist-packages (from ktrain) (3.2.2)\n",
            "Requirement already satisfied: pandas>=1.0.1 in /usr/local/lib/python3.7/dist-packages (from ktrain) (1.1.5)\n",
            "Requirement already satisfied: fastprogress>=0.1.21 in /usr/local/lib/python3.7/dist-packages (from ktrain) (1.0.0)\n",
            "Requirement already satisfied: requests in /usr/local/lib/python3.7/dist-packages (from ktrain) (2.23.0)\n",
            "Requirement already satisfied: joblib in /usr/local/lib/python3.7/dist-packages (from ktrain) (1.0.1)\n",
            "Requirement already satisfied: packaging in /usr/local/lib/python3.7/dist-packages (from ktrain) (21.0)\n",
            "Requirement already satisfied: ipython in /usr/local/lib/python3.7/dist-packages (from ktrain) (5.5.0)\n",
            "Collecting langdetect\n",
            "  Downloading langdetect-1.0.9.tar.gz (981 kB)\n",
            "\u001b[K     |████████████████████████████████| 981 kB 39.8 MB/s \n",
            "\u001b[?25hRequirement already satisfied: jieba in /usr/local/lib/python3.7/dist-packages (from ktrain) (0.42.1)\n",
            "Collecting cchardet\n",
            "  Downloading cchardet-2.1.7-cp37-cp37m-manylinux2010_x86_64.whl (263 kB)\n",
            "\u001b[K     |████████████████████████████████| 263 kB 49.0 MB/s \n",
            "\u001b[?25hRequirement already satisfied: chardet in /usr/local/lib/python3.7/dist-packages (from ktrain) (3.0.4)\n",
            "Collecting syntok\n",
            "  Downloading syntok-1.3.1.tar.gz (23 kB)\n",
            "Collecting seqeval==0.0.19\n",
            "  Downloading seqeval-0.0.19.tar.gz (30 kB)\n",
            "Collecting transformers<=4.10.3,>=4.0.0\n",
            "  Downloading transformers-4.10.3-py3-none-any.whl (2.8 MB)\n",
            "\u001b[K     |████████████████████████████████| 2.8 MB 40.3 MB/s \n",
            "\u001b[?25hCollecting sentencepiece\n",
            "  Downloading sentencepiece-0.1.96-cp37-cp37m-manylinux_2_17_x86_64.manylinux2014_x86_64.whl (1.2 MB)\n",
            "\u001b[K     |████████████████████████████████| 1.2 MB 41.9 MB/s \n",
            "\u001b[?25hCollecting datasets\n",
            "  Downloading datasets-1.13.0-py3-none-any.whl (285 kB)\n",
            "\u001b[K     |████████████████████████████████| 285 kB 45.8 MB/s \n",
            "\u001b[?25hCollecting keras_bert>=0.86.0\n",
            "  Downloading keras-bert-0.88.0.tar.gz (26 kB)\n",
            "Requirement already satisfied: networkx>=2.3 in /usr/local/lib/python3.7/dist-packages (from ktrain) (2.6.3)\n",
            "Collecting whoosh\n",
            "  Downloading Whoosh-2.7.4-py2.py3-none-any.whl (468 kB)\n",
            "\u001b[K     |████████████████████████████████| 468 kB 38.3 MB/s \n",
            "\u001b[?25hCollecting threadpoolctl>=2.0.0\n",
            "  Downloading threadpoolctl-3.0.0-py3-none-any.whl (14 kB)\n",
            "Requirement already satisfied: scipy>=0.19.1 in /usr/local/lib/python3.7/dist-packages (from scikit-learn==0.23.2->ktrain) (1.4.1)\n",
            "Requirement already satisfied: numpy>=1.13.3 in /usr/local/lib/python3.7/dist-packages (from scikit-learn==0.23.2->ktrain) (1.19.5)\n",
            "Requirement already satisfied: Keras>=2.2.4 in /usr/local/lib/python3.7/dist-packages (from seqeval==0.0.19->ktrain) (2.6.0)\n",
            "Collecting keras-transformer>=0.39.0\n",
            "  Downloading keras-transformer-0.39.0.tar.gz (11 kB)\n",
            "Collecting keras-pos-embd>=0.12.0\n",
            "  Downloading keras-pos-embd-0.12.0.tar.gz (6.0 kB)\n",
            "Collecting keras-multi-head>=0.28.0\n",
            "  Downloading keras-multi-head-0.28.0.tar.gz (14 kB)\n",
            "Collecting keras-layer-normalization>=0.15.0\n",
            "  Downloading keras-layer-normalization-0.15.0.tar.gz (4.2 kB)\n",
            "Collecting keras-position-wise-feed-forward>=0.7.0\n",
            "  Downloading keras-position-wise-feed-forward-0.7.0.tar.gz (4.5 kB)\n",
            "Collecting keras-embed-sim>=0.9.0\n",
            "  Downloading keras-embed-sim-0.9.0.tar.gz (4.1 kB)\n",
            "Collecting keras-self-attention>=0.50.0\n",
            "  Downloading keras-self-attention-0.50.0.tar.gz (12 kB)\n",
            "Requirement already satisfied: cycler>=0.10 in /usr/local/lib/python3.7/dist-packages (from matplotlib>=3.0.0->ktrain) (0.10.0)\n",
            "Requirement already satisfied: kiwisolver>=1.0.1 in /usr/local/lib/python3.7/dist-packages (from matplotlib>=3.0.0->ktrain) (1.3.2)\n",
            "Requirement already satisfied: python-dateutil>=2.1 in /usr/local/lib/python3.7/dist-packages (from matplotlib>=3.0.0->ktrain) (2.8.2)\n",
            "Requirement already satisfied: pyparsing!=2.0.4,!=2.1.2,!=2.1.6,>=2.0.1 in /usr/local/lib/python3.7/dist-packages (from matplotlib>=3.0.0->ktrain) (2.4.7)\n",
            "Requirement already satisfied: six in /usr/local/lib/python3.7/dist-packages (from cycler>=0.10->matplotlib>=3.0.0->ktrain) (1.15.0)\n",
            "Requirement already satisfied: pytz>=2017.2 in /usr/local/lib/python3.7/dist-packages (from pandas>=1.0.1->ktrain) (2018.9)\n",
            "Collecting pyyaml>=5.1\n",
            "  Downloading PyYAML-6.0-cp37-cp37m-manylinux_2_5_x86_64.manylinux1_x86_64.manylinux_2_12_x86_64.manylinux2010_x86_64.whl (596 kB)\n",
            "\u001b[K     |████████████████████████████████| 596 kB 37.8 MB/s \n",
            "\u001b[?25hCollecting tokenizers<0.11,>=0.10.1\n",
            "  Downloading tokenizers-0.10.3-cp37-cp37m-manylinux_2_5_x86_64.manylinux1_x86_64.manylinux_2_12_x86_64.manylinux2010_x86_64.whl (3.3 MB)\n",
            "\u001b[K     |████████████████████████████████| 3.3 MB 39.3 MB/s \n",
            "\u001b[?25hRequirement already satisfied: tqdm>=4.27 in /usr/local/lib/python3.7/dist-packages (from transformers<=4.10.3,>=4.0.0->ktrain) (4.62.3)\n",
            "Requirement already satisfied: filelock in /usr/local/lib/python3.7/dist-packages (from transformers<=4.10.3,>=4.0.0->ktrain) (3.3.0)\n",
            "Collecting sacremoses\n",
            "  Downloading sacremoses-0.0.46-py3-none-any.whl (895 kB)\n",
            "\u001b[K     |████████████████████████████████| 895 kB 49.0 MB/s \n",
            "\u001b[?25hCollecting huggingface-hub>=0.0.12\n",
            "  Downloading huggingface_hub-0.0.19-py3-none-any.whl (56 kB)\n",
            "\u001b[K     |████████████████████████████████| 56 kB 5.2 MB/s \n",
            "\u001b[?25hRequirement already satisfied: regex!=2019.12.17 in /usr/local/lib/python3.7/dist-packages (from transformers<=4.10.3,>=4.0.0->ktrain) (2019.12.20)\n",
            "Requirement already satisfied: importlib-metadata in /usr/local/lib/python3.7/dist-packages (from transformers<=4.10.3,>=4.0.0->ktrain) (4.8.1)\n",
            "Requirement already satisfied: typing-extensions in /usr/local/lib/python3.7/dist-packages (from huggingface-hub>=0.0.12->transformers<=4.10.3,>=4.0.0->ktrain) (3.7.4.3)\n",
            "Requirement already satisfied: pyarrow!=4.0.0,>=1.0.0 in /usr/local/lib/python3.7/dist-packages (from datasets->ktrain) (3.0.0)\n",
            "Requirement already satisfied: dill in /usr/local/lib/python3.7/dist-packages (from datasets->ktrain) (0.3.4)\n",
            "Requirement already satisfied: multiprocess in /usr/local/lib/python3.7/dist-packages (from datasets->ktrain) (0.70.12.2)\n",
            "Collecting fsspec[http]>=2021.05.0\n",
            "  Downloading fsspec-2021.10.0-py3-none-any.whl (125 kB)\n",
            "\u001b[K     |████████████████████████████████| 125 kB 51.4 MB/s \n",
            "\u001b[?25hCollecting xxhash\n",
            "  Downloading xxhash-2.0.2-cp37-cp37m-manylinux2010_x86_64.whl (243 kB)\n",
            "\u001b[K     |████████████████████████████████| 243 kB 56.9 MB/s \n",
            "\u001b[?25hCollecting aiohttp\n",
            "  Downloading aiohttp-3.7.4.post0-cp37-cp37m-manylinux2014_x86_64.whl (1.3 MB)\n",
            "\u001b[K     |████████████████████████████████| 1.3 MB 34.6 MB/s \n",
            "\u001b[?25hRequirement already satisfied: urllib3!=1.25.0,!=1.25.1,<1.26,>=1.21.1 in /usr/local/lib/python3.7/dist-packages (from requests->ktrain) (1.24.3)\n",
            "Requirement already satisfied: certifi>=2017.4.17 in /usr/local/lib/python3.7/dist-packages (from requests->ktrain) (2021.5.30)\n",
            "Requirement already satisfied: idna<3,>=2.5 in /usr/local/lib/python3.7/dist-packages (from requests->ktrain) (2.10)\n",
            "Collecting yarl<2.0,>=1.0\n",
            "  Downloading yarl-1.7.0-cp37-cp37m-manylinux_2_5_x86_64.manylinux1_x86_64.manylinux_2_12_x86_64.manylinux2010_x86_64.whl (271 kB)\n",
            "\u001b[K     |████████████████████████████████| 271 kB 57.1 MB/s \n",
            "\u001b[?25hCollecting async-timeout<4.0,>=3.0\n",
            "  Downloading async_timeout-3.0.1-py3-none-any.whl (8.2 kB)\n",
            "Requirement already satisfied: attrs>=17.3.0 in /usr/local/lib/python3.7/dist-packages (from aiohttp->datasets->ktrain) (21.2.0)\n",
            "Collecting multidict<7.0,>=4.5\n",
            "  Downloading multidict-5.2.0-cp37-cp37m-manylinux_2_5_x86_64.manylinux1_x86_64.manylinux_2_12_x86_64.manylinux2010_x86_64.whl (160 kB)\n",
            "\u001b[K     |████████████████████████████████| 160 kB 47.9 MB/s \n",
            "\u001b[?25hRequirement already satisfied: zipp>=0.5 in /usr/local/lib/python3.7/dist-packages (from importlib-metadata->transformers<=4.10.3,>=4.0.0->ktrain) (3.6.0)\n",
            "Requirement already satisfied: decorator in /usr/local/lib/python3.7/dist-packages (from ipython->ktrain) (4.4.2)\n",
            "Requirement already satisfied: traitlets>=4.2 in /usr/local/lib/python3.7/dist-packages (from ipython->ktrain) (5.1.0)\n",
            "Requirement already satisfied: prompt-toolkit<2.0.0,>=1.0.4 in /usr/local/lib/python3.7/dist-packages (from ipython->ktrain) (1.0.18)\n",
            "Requirement already satisfied: pygments in /usr/local/lib/python3.7/dist-packages (from ipython->ktrain) (2.6.1)\n",
            "Requirement already satisfied: simplegeneric>0.8 in /usr/local/lib/python3.7/dist-packages (from ipython->ktrain) (0.8.1)\n",
            "Requirement already satisfied: pickleshare in /usr/local/lib/python3.7/dist-packages (from ipython->ktrain) (0.7.5)\n",
            "Requirement already satisfied: setuptools>=18.5 in /usr/local/lib/python3.7/dist-packages (from ipython->ktrain) (57.4.0)\n",
            "Requirement already satisfied: pexpect in /usr/local/lib/python3.7/dist-packages (from ipython->ktrain) (4.8.0)\n",
            "Requirement already satisfied: wcwidth in /usr/local/lib/python3.7/dist-packages (from prompt-toolkit<2.0.0,>=1.0.4->ipython->ktrain) (0.2.5)\n",
            "Requirement already satisfied: ptyprocess>=0.5 in /usr/local/lib/python3.7/dist-packages (from pexpect->ipython->ktrain) (0.7.0)\n",
            "Requirement already satisfied: click in /usr/local/lib/python3.7/dist-packages (from sacremoses->transformers<=4.10.3,>=4.0.0->ktrain) (7.1.2)\n",
            "Building wheels for collected packages: ktrain, seqeval, keras-bert, keras-transformer, keras-embed-sim, keras-layer-normalization, keras-multi-head, keras-pos-embd, keras-position-wise-feed-forward, keras-self-attention, langdetect, syntok\n",
            "  Building wheel for ktrain (setup.py) ... \u001b[?25l\u001b[?25hdone\n",
            "  Created wheel for ktrain: filename=ktrain-0.28.0-py3-none-any.whl size=25290701 sha256=026dcd16ee31feeb3e3c61206c2f7a9fac2032a98d3cc0a0acdf44ad39e52819\n",
            "  Stored in directory: /root/.cache/pip/wheels/c6/7d/ce/e8303749814b65cdbeca3b7b51c4e07736fe44a6614d641798\n",
            "  Building wheel for seqeval (setup.py) ... \u001b[?25l\u001b[?25hdone\n",
            "  Created wheel for seqeval: filename=seqeval-0.0.19-py3-none-any.whl size=9929 sha256=0fb8809453aa549cbe054383aa49434a563e5a6f9f28b47748d49e92b312f615\n",
            "  Stored in directory: /root/.cache/pip/wheels/f5/ac/f1/4e13d7aff05c722d142b7d20a88ad63f9aab11b895411241a4\n",
            "  Building wheel for keras-bert (setup.py) ... \u001b[?25l\u001b[?25hdone\n",
            "  Created wheel for keras-bert: filename=keras_bert-0.88.0-py3-none-any.whl size=34204 sha256=ecd321b306fe7b8a8eaef05d260dcdd58def3dda5fca9895a0f33fe6ac06b068\n",
            "  Stored in directory: /root/.cache/pip/wheels/a2/90/cd/c038f2366929a3a5e3414a303b673e10235e802d871d29a835\n",
            "  Building wheel for keras-transformer (setup.py) ... \u001b[?25l\u001b[?25hdone\n",
            "  Created wheel for keras-transformer: filename=keras_transformer-0.39.0-py3-none-any.whl size=12842 sha256=172815700349fd82b77d817ac7e2a0c21452f1f4fc4db8aa8674febe6c938ff8\n",
            "  Stored in directory: /root/.cache/pip/wheels/bc/01/e0/5a1a14bed6726f2ed73f7917d2d2c2d4081d2c88426dea07ce\n",
            "  Building wheel for keras-embed-sim (setup.py) ... \u001b[?25l\u001b[?25hdone\n",
            "  Created wheel for keras-embed-sim: filename=keras_embed_sim-0.9.0-py3-none-any.whl size=4504 sha256=adc371e240dba64e10e523d31fca36a7fb22c02258107c7cedbc9fe3a8f1b545\n",
            "  Stored in directory: /root/.cache/pip/wheels/a8/1e/d2/9bc15513dd2f8b9de3e628b3aa9d2de49e721deef6bbd1497e\n",
            "  Building wheel for keras-layer-normalization (setup.py) ... \u001b[?25l\u001b[?25hdone\n",
            "  Created wheel for keras-layer-normalization: filename=keras_layer_normalization-0.15.0-py3-none-any.whl size=5224 sha256=311056e66520d492e0e2f33295d5eb309f174ec3d3b5d0bbebf5347e0697a432\n",
            "  Stored in directory: /root/.cache/pip/wheels/4d/be/fe/55422f77ac11fe6ddcb471198038de8a26b5a4dd1557883c1e\n",
            "  Building wheel for keras-multi-head (setup.py) ... \u001b[?25l\u001b[?25hdone\n",
            "  Created wheel for keras-multi-head: filename=keras_multi_head-0.28.0-py3-none-any.whl size=15559 sha256=a7c2e8ff1b87ffd93e5ae9cd1f8bd62e95075cbca64d069900806e74cbf0da1f\n",
            "  Stored in directory: /root/.cache/pip/wheels/79/4a/ea/9503ab5a02201dfb8635ba2cc8f30844661623c684a5b44472\n",
            "  Building wheel for keras-pos-embd (setup.py) ... \u001b[?25l\u001b[?25hdone\n",
            "  Created wheel for keras-pos-embd: filename=keras_pos_embd-0.12.0-py3-none-any.whl size=7469 sha256=2f1c872b194a777397eddab6685f1cf85b210dcd2112056531c0be5dbec9edce\n",
            "  Stored in directory: /root/.cache/pip/wheels/77/99/fd/dd98f4876c3ebbef7aab0dbfbd37bca41d7db37d3a28b2cb09\n",
            "  Building wheel for keras-position-wise-feed-forward (setup.py) ... \u001b[?25l\u001b[?25hdone\n",
            "  Created wheel for keras-position-wise-feed-forward: filename=keras_position_wise_feed_forward-0.7.0-py3-none-any.whl size=5541 sha256=31738a04b4e3e4afb4708939ba69869955c550691add231792e46c1dfa18a968\n",
            "  Stored in directory: /root/.cache/pip/wheels/2d/12/02/1ad455c4f181cda1a4e60c5445855853d5c2ea91f942586a04\n",
            "  Building wheel for keras-self-attention (setup.py) ... \u001b[?25l\u001b[?25hdone\n",
            "  Created wheel for keras-self-attention: filename=keras_self_attention-0.50.0-py3-none-any.whl size=19414 sha256=6147d5661e4d46e9736dd095387a99db83d7e04cfaa9e922716c49c856a56922\n",
            "  Stored in directory: /root/.cache/pip/wheels/92/7a/a3/231bef5803298e7ec1815215bc0613239cb1e9c03c57b13c14\n",
            "  Building wheel for langdetect (setup.py) ... \u001b[?25l\u001b[?25hdone\n",
            "  Created wheel for langdetect: filename=langdetect-1.0.9-py3-none-any.whl size=993242 sha256=3612b325897bc33f6f2caeca35fab6553bf593676dc1f0a6c0a5b5d96593b0f2\n",
            "  Stored in directory: /root/.cache/pip/wheels/c5/96/8a/f90c59ed25d75e50a8c10a1b1c2d4c402e4dacfa87f3aff36a\n",
            "  Building wheel for syntok (setup.py) ... \u001b[?25l\u001b[?25hdone\n",
            "  Created wheel for syntok: filename=syntok-1.3.1-py3-none-any.whl size=20917 sha256=a77a5f443e8329df00213a751ceba26ea57b97ba2013543db014876e53854e0a\n",
            "  Stored in directory: /root/.cache/pip/wheels/5e/c2/33/e5d7d8f2f8b0c391d76bf82b844c3151bf23a84d75d02b185f\n",
            "Successfully built ktrain seqeval keras-bert keras-transformer keras-embed-sim keras-layer-normalization keras-multi-head keras-pos-embd keras-position-wise-feed-forward keras-self-attention langdetect syntok\n",
            "Installing collected packages: multidict, yarl, keras-self-attention, async-timeout, pyyaml, keras-position-wise-feed-forward, keras-pos-embd, keras-multi-head, keras-layer-normalization, keras-embed-sim, fsspec, aiohttp, xxhash, tokenizers, threadpoolctl, sacremoses, keras-transformer, huggingface-hub, whoosh, transformers, syntok, seqeval, sentencepiece, scikit-learn, langdetect, keras-bert, datasets, cchardet, ktrain\n",
            "  Attempting uninstall: pyyaml\n",
            "    Found existing installation: PyYAML 3.13\n",
            "    Uninstalling PyYAML-3.13:\n",
            "      Successfully uninstalled PyYAML-3.13\n",
            "  Attempting uninstall: scikit-learn\n",
            "    Found existing installation: scikit-learn 0.22.2.post1\n",
            "    Uninstalling scikit-learn-0.22.2.post1:\n",
            "      Successfully uninstalled scikit-learn-0.22.2.post1\n",
            "Successfully installed aiohttp-3.7.4.post0 async-timeout-3.0.1 cchardet-2.1.7 datasets-1.13.0 fsspec-2021.10.0 huggingface-hub-0.0.19 keras-bert-0.88.0 keras-embed-sim-0.9.0 keras-layer-normalization-0.15.0 keras-multi-head-0.28.0 keras-pos-embd-0.12.0 keras-position-wise-feed-forward-0.7.0 keras-self-attention-0.50.0 keras-transformer-0.39.0 ktrain-0.28.0 langdetect-1.0.9 multidict-5.2.0 pyyaml-6.0 sacremoses-0.0.46 scikit-learn-0.23.2 sentencepiece-0.1.96 seqeval-0.0.19 syntok-1.3.1 threadpoolctl-3.0.0 tokenizers-0.10.3 transformers-4.10.3 whoosh-2.7.4 xxhash-2.0.2 yarl-1.7.0\n"
          ]
        },
        {
          "output_type": "display_data",
          "data": {
            "application/vnd.colab-display-data+json": {
              "pip_warning": {
                "packages": [
                  "sklearn"
                ]
              }
            }
          },
          "metadata": {}
        }
      ]
    },
    {
      "cell_type": "code",
      "metadata": {
        "colab": {
          "base_uri": "https://localhost:8080/"
        },
        "id": "NNvm5BC6sHMi",
        "outputId": "3f33d47b-add1-4dfe-90a8-56ca96713912"
      },
      "source": [
        "# Libraries\n",
        "\n",
        "import os\n",
        "import re\n",
        "import numpy as np\n",
        "import pandas as pd\n",
        "import matplotlib.pyplot as plt\n",
        "import seaborn as sns\n",
        "from sklearn.model_selection import train_test_split, StratifiedKFold\n",
        "from sklearn.metrics import classification_report\n",
        "\n",
        "\n",
        "import tensorflow as tf\n",
        "import tensorflow_hub as hub\n",
        "import tensorflow_text\n",
        "from tensorflow.keras.preprocessing.text import Tokenizer\n",
        "from tensorflow.keras.preprocessing.sequence import pad_sequences\n",
        "from tensorflow.keras import Model, Sequential\n",
        "from tensorflow.keras.layers import LSTM, Bidirectional, Embedding, Dense\n",
        "\n",
        "import ktrain\n",
        "from ktrain import text\n",
        "import re\n",
        "import nltk\n",
        "from nltk.corpus import stopwords\n",
        "from nltk.stem.wordnet import WordNetLemmatizer\n",
        "from nltk.tokenize import word_tokenize\n",
        "\n",
        "nltk.download('punkt')\n",
        "nltk.download('stopwords')\n",
        "nltk.download('wordnet')\n",
        "nltk.download('averaged_perceptron_tagger')"
      ],
      "execution_count": 1,
      "outputs": [
        {
          "output_type": "stream",
          "name": "stdout",
          "text": [
            "[nltk_data] Downloading package punkt to /root/nltk_data...\n",
            "[nltk_data]   Package punkt is already up-to-date!\n",
            "[nltk_data] Downloading package stopwords to /root/nltk_data...\n",
            "[nltk_data]   Package stopwords is already up-to-date!\n",
            "[nltk_data] Downloading package wordnet to /root/nltk_data...\n",
            "[nltk_data]   Package wordnet is already up-to-date!\n",
            "[nltk_data] Downloading package averaged_perceptron_tagger to\n",
            "[nltk_data]     /root/nltk_data...\n",
            "[nltk_data]   Package averaged_perceptron_tagger is already up-to-\n",
            "[nltk_data]       date!\n"
          ]
        },
        {
          "output_type": "execute_result",
          "data": {
            "text/plain": [
              "True"
            ]
          },
          "metadata": {},
          "execution_count": 1
        }
      ]
    },
    {
      "cell_type": "markdown",
      "metadata": {
        "id": "Zy0LwuTBltXW"
      },
      "source": [
        "# Data Obtainance and Preparation"
      ]
    },
    {
      "cell_type": "markdown",
      "metadata": {
        "id": "b9BJM2FFlxbh"
      },
      "source": [
        "## Data Obtainance"
      ]
    },
    {
      "cell_type": "code",
      "metadata": {
        "colab": {
          "base_uri": "https://localhost:8080/"
        },
        "id": "iW-3sbk2WkFG",
        "outputId": "1a7165d6-4324-4617-a1aa-9fc13c38857c"
      },
      "source": [
        "# Mount drive\n",
        "from google.colab import drive\n",
        "drive.mount('/content/drive')"
      ],
      "execution_count": 3,
      "outputs": [
        {
          "output_type": "stream",
          "name": "stdout",
          "text": [
            "Drive already mounted at /content/drive; to attempt to forcibly remount, call drive.mount(\"/content/drive\", force_remount=True).\n"
          ]
        }
      ]
    },
    {
      "cell_type": "code",
      "metadata": {
        "id": "jX15T769l5ET"
      },
      "source": [
        "# Load data\n",
        "submission = pd.read_csv('/content/drive/MyDrive/Swahili News Project/SampleSubmission.csv')\n",
        "test = pd.read_csv('/content/drive/MyDrive/Swahili News Project/Test.csv')\n",
        "train = pd.read_csv('/content/drive/MyDrive/Swahili News Project/Train.csv')\n",
        "variable_def = pd.read_csv('/content/drive/MyDrive/Swahili News Project/VariableDefinitions.csv')"
      ],
      "execution_count": 3,
      "outputs": []
    },
    {
      "cell_type": "code",
      "metadata": {
        "colab": {
          "base_uri": "https://localhost:8080/",
          "height": 206
        },
        "id": "cbRl3krcnroS",
        "outputId": "82f25116-ceb2-4be1-ffb0-1dd4faeaa2e3"
      },
      "source": [
        "# View data\n",
        "train.head()"
      ],
      "execution_count": 4,
      "outputs": [
        {
          "output_type": "execute_result",
          "data": {
            "text/html": [
              "<div>\n",
              "<style scoped>\n",
              "    .dataframe tbody tr th:only-of-type {\n",
              "        vertical-align: middle;\n",
              "    }\n",
              "\n",
              "    .dataframe tbody tr th {\n",
              "        vertical-align: top;\n",
              "    }\n",
              "\n",
              "    .dataframe thead th {\n",
              "        text-align: right;\n",
              "    }\n",
              "</style>\n",
              "<table border=\"1\" class=\"dataframe\">\n",
              "  <thead>\n",
              "    <tr style=\"text-align: right;\">\n",
              "      <th></th>\n",
              "      <th>id</th>\n",
              "      <th>content</th>\n",
              "      <th>category</th>\n",
              "    </tr>\n",
              "  </thead>\n",
              "  <tbody>\n",
              "    <tr>\n",
              "      <th>0</th>\n",
              "      <td>SW0</td>\n",
              "      <td>SERIKALI imesema haitakuwa tayari kuona amani...</td>\n",
              "      <td>Kitaifa</td>\n",
              "    </tr>\n",
              "    <tr>\n",
              "      <th>1</th>\n",
              "      <td>SW1</td>\n",
              "      <td>Mkuu wa Mkoa wa Tabora, Aggrey Mwanri amesiti...</td>\n",
              "      <td>Biashara</td>\n",
              "    </tr>\n",
              "    <tr>\n",
              "      <th>2</th>\n",
              "      <td>SW10</td>\n",
              "      <td>SERIKALI imetoa miezi sita kwa taasisi zote z...</td>\n",
              "      <td>Kitaifa</td>\n",
              "    </tr>\n",
              "    <tr>\n",
              "      <th>3</th>\n",
              "      <td>SW100</td>\n",
              "      <td>KAMPUNI ya mchezo wa kubahatisha ya M-bet ime...</td>\n",
              "      <td>michezo</td>\n",
              "    </tr>\n",
              "    <tr>\n",
              "      <th>4</th>\n",
              "      <td>SW1000</td>\n",
              "      <td>WATANZANIA wamekumbushwa kusherehekea sikukuu...</td>\n",
              "      <td>Kitaifa</td>\n",
              "    </tr>\n",
              "  </tbody>\n",
              "</table>\n",
              "</div>"
            ],
            "text/plain": [
              "       id                                            content  category\n",
              "0     SW0   SERIKALI imesema haitakuwa tayari kuona amani...   Kitaifa\n",
              "1     SW1   Mkuu wa Mkoa wa Tabora, Aggrey Mwanri amesiti...  Biashara\n",
              "2    SW10   SERIKALI imetoa miezi sita kwa taasisi zote z...   Kitaifa\n",
              "3   SW100   KAMPUNI ya mchezo wa kubahatisha ya M-bet ime...   michezo\n",
              "4  SW1000   WATANZANIA wamekumbushwa kusherehekea sikukuu...   Kitaifa"
            ]
          },
          "metadata": {},
          "execution_count": 4
        }
      ]
    },
    {
      "cell_type": "code",
      "metadata": {
        "colab": {
          "base_uri": "https://localhost:8080/",
          "height": 206
        },
        "id": "vkm28l1anvcF",
        "outputId": "9ad6d3f3-95ae-4508-f46f-88e7d4183065"
      },
      "source": [
        "# View test\n",
        "test.head()"
      ],
      "execution_count": 5,
      "outputs": [
        {
          "output_type": "execute_result",
          "data": {
            "text/html": [
              "<div>\n",
              "<style scoped>\n",
              "    .dataframe tbody tr th:only-of-type {\n",
              "        vertical-align: middle;\n",
              "    }\n",
              "\n",
              "    .dataframe tbody tr th {\n",
              "        vertical-align: top;\n",
              "    }\n",
              "\n",
              "    .dataframe thead th {\n",
              "        text-align: right;\n",
              "    }\n",
              "</style>\n",
              "<table border=\"1\" class=\"dataframe\">\n",
              "  <thead>\n",
              "    <tr style=\"text-align: right;\">\n",
              "      <th></th>\n",
              "      <th>swahili_id</th>\n",
              "      <th>content</th>\n",
              "    </tr>\n",
              "  </thead>\n",
              "  <tbody>\n",
              "    <tr>\n",
              "      <th>0</th>\n",
              "      <td>001dd47ac202d9db6624a5ff734a5e7dddafeaf2</td>\n",
              "      <td>MKUU wa Wilaya ya Bahi, Mkoani Dodoma, Mwanah...</td>\n",
              "    </tr>\n",
              "    <tr>\n",
              "      <th>1</th>\n",
              "      <td>0043d97f7690e9bc02f0ed8bb2b260d1d44bad92</td>\n",
              "      <td>MWISHONI mwa wiki hii, Timu ya Soka ya Taifa,...</td>\n",
              "    </tr>\n",
              "    <tr>\n",
              "      <th>2</th>\n",
              "      <td>00579c2307b5c11003d21c40c3ecff5e922c3fd8</td>\n",
              "      <td>THAMANI ya mauzo ya bidhaa za Afrika Masharik...</td>\n",
              "    </tr>\n",
              "    <tr>\n",
              "      <th>3</th>\n",
              "      <td>00868eeee349e286303706ef0ffd851f39708d37</td>\n",
              "      <td>MENEJA Mawasiliano na Utetezi wa asasi ya AGP...</td>\n",
              "    </tr>\n",
              "    <tr>\n",
              "      <th>4</th>\n",
              "      <td>00a5cb12d3058dcf2e42f277eee599992db32412</td>\n",
              "      <td>WAZIRI wa Kilimo, Japhet Hasunga amesema seri...</td>\n",
              "    </tr>\n",
              "  </tbody>\n",
              "</table>\n",
              "</div>"
            ],
            "text/plain": [
              "                                 swahili_id                                            content\n",
              "0  001dd47ac202d9db6624a5ff734a5e7dddafeaf2   MKUU wa Wilaya ya Bahi, Mkoani Dodoma, Mwanah...\n",
              "1  0043d97f7690e9bc02f0ed8bb2b260d1d44bad92   MWISHONI mwa wiki hii, Timu ya Soka ya Taifa,...\n",
              "2  00579c2307b5c11003d21c40c3ecff5e922c3fd8   THAMANI ya mauzo ya bidhaa za Afrika Masharik...\n",
              "3  00868eeee349e286303706ef0ffd851f39708d37   MENEJA Mawasiliano na Utetezi wa asasi ya AGP...\n",
              "4  00a5cb12d3058dcf2e42f277eee599992db32412   WAZIRI wa Kilimo, Japhet Hasunga amesema seri..."
            ]
          },
          "metadata": {},
          "execution_count": 5
        }
      ]
    },
    {
      "cell_type": "code",
      "metadata": {
        "colab": {
          "base_uri": "https://localhost:8080/",
          "height": 206
        },
        "id": "FoB3hvwOn1S_",
        "outputId": "1c38f6a0-70b4-49b1-d487-9c387cd7186b"
      },
      "source": [
        "# View submission\n",
        "submission.head()"
      ],
      "execution_count": 7,
      "outputs": [
        {
          "output_type": "execute_result",
          "data": {
            "text/html": [
              "<div>\n",
              "<style scoped>\n",
              "    .dataframe tbody tr th:only-of-type {\n",
              "        vertical-align: middle;\n",
              "    }\n",
              "\n",
              "    .dataframe tbody tr th {\n",
              "        vertical-align: top;\n",
              "    }\n",
              "\n",
              "    .dataframe thead th {\n",
              "        text-align: right;\n",
              "    }\n",
              "</style>\n",
              "<table border=\"1\" class=\"dataframe\">\n",
              "  <thead>\n",
              "    <tr style=\"text-align: right;\">\n",
              "      <th></th>\n",
              "      <th>swahili_id</th>\n",
              "      <th>kitaifa</th>\n",
              "      <th>michezo</th>\n",
              "      <th>biashara</th>\n",
              "      <th>kimataifa</th>\n",
              "      <th>burudani</th>\n",
              "    </tr>\n",
              "  </thead>\n",
              "  <tbody>\n",
              "    <tr>\n",
              "      <th>0</th>\n",
              "      <td>001dd47ac202d9db6624a5ff734a5e7dddafeaf2</td>\n",
              "      <td>0</td>\n",
              "      <td>0</td>\n",
              "      <td>0</td>\n",
              "      <td>0</td>\n",
              "      <td>0</td>\n",
              "    </tr>\n",
              "    <tr>\n",
              "      <th>1</th>\n",
              "      <td>0043d97f7690e9bc02f0ed8bb2b260d1d44bad92</td>\n",
              "      <td>0</td>\n",
              "      <td>0</td>\n",
              "      <td>0</td>\n",
              "      <td>0</td>\n",
              "      <td>0</td>\n",
              "    </tr>\n",
              "    <tr>\n",
              "      <th>2</th>\n",
              "      <td>00579c2307b5c11003d21c40c3ecff5e922c3fd8</td>\n",
              "      <td>0</td>\n",
              "      <td>0</td>\n",
              "      <td>0</td>\n",
              "      <td>0</td>\n",
              "      <td>0</td>\n",
              "    </tr>\n",
              "    <tr>\n",
              "      <th>3</th>\n",
              "      <td>00868eeee349e286303706ef0ffd851f39708d37</td>\n",
              "      <td>0</td>\n",
              "      <td>0</td>\n",
              "      <td>0</td>\n",
              "      <td>0</td>\n",
              "      <td>0</td>\n",
              "    </tr>\n",
              "    <tr>\n",
              "      <th>4</th>\n",
              "      <td>00a5cb12d3058dcf2e42f277eee599992db32412</td>\n",
              "      <td>0</td>\n",
              "      <td>0</td>\n",
              "      <td>0</td>\n",
              "      <td>0</td>\n",
              "      <td>0</td>\n",
              "    </tr>\n",
              "  </tbody>\n",
              "</table>\n",
              "</div>"
            ],
            "text/plain": [
              "                                 swahili_id  kitaifa  ...  kimataifa  burudani\n",
              "0  001dd47ac202d9db6624a5ff734a5e7dddafeaf2        0  ...          0         0\n",
              "1  0043d97f7690e9bc02f0ed8bb2b260d1d44bad92        0  ...          0         0\n",
              "2  00579c2307b5c11003d21c40c3ecff5e922c3fd8        0  ...          0         0\n",
              "3  00868eeee349e286303706ef0ffd851f39708d37        0  ...          0         0\n",
              "4  00a5cb12d3058dcf2e42f277eee599992db32412        0  ...          0         0\n",
              "\n",
              "[5 rows x 6 columns]"
            ]
          },
          "metadata": {},
          "execution_count": 7
        }
      ]
    },
    {
      "cell_type": "markdown",
      "metadata": {
        "id": "YLTJfBsMoAA3"
      },
      "source": [
        "## Data Preparation"
      ]
    },
    {
      "cell_type": "markdown",
      "metadata": {
        "id": "eO4zYHL7oCwr"
      },
      "source": [
        "**View Distribution**"
      ]
    },
    {
      "cell_type": "code",
      "metadata": {
        "colab": {
          "base_uri": "https://localhost:8080/"
        },
        "id": "F3WAt2UHuNrx",
        "outputId": "3624bf79-5e62-440e-e6c1-fe984e458fb5"
      },
      "source": [
        "# View info\n",
        "train.info()"
      ],
      "execution_count": 8,
      "outputs": [
        {
          "output_type": "stream",
          "name": "stdout",
          "text": [
            "<class 'pandas.core.frame.DataFrame'>\n",
            "RangeIndex: 5151 entries, 0 to 5150\n",
            "Data columns (total 3 columns):\n",
            " #   Column    Non-Null Count  Dtype \n",
            "---  ------    --------------  ----- \n",
            " 0   id        5151 non-null   object\n",
            " 1   content   5151 non-null   object\n",
            " 2   category  5151 non-null   object\n",
            "dtypes: object(3)\n",
            "memory usage: 120.9+ KB\n"
          ]
        }
      ]
    },
    {
      "cell_type": "code",
      "metadata": {
        "colab": {
          "base_uri": "https://localhost:8080/"
        },
        "id": "614dBFjTn7hN",
        "outputId": "5b0f3d56-2780-4d2b-9277-b2b25b79b9e3"
      },
      "source": [
        "# Check for nulls\n",
        "train.isnull().sum()"
      ],
      "execution_count": 9,
      "outputs": [
        {
          "output_type": "execute_result",
          "data": {
            "text/plain": [
              "id          0\n",
              "content     0\n",
              "category    0\n",
              "dtype: int64"
            ]
          },
          "metadata": {},
          "execution_count": 9
        }
      ]
    },
    {
      "cell_type": "code",
      "metadata": {
        "colab": {
          "base_uri": "https://localhost:8080/"
        },
        "id": "Xk98hLK7oJ3i",
        "outputId": "aa1d8af8-1756-4eda-c012-834af18cb01c"
      },
      "source": [
        "# Check for duplicates\n",
        "train.duplicated().sum()"
      ],
      "execution_count": 10,
      "outputs": [
        {
          "output_type": "execute_result",
          "data": {
            "text/plain": [
              "0"
            ]
          },
          "metadata": {},
          "execution_count": 10
        }
      ]
    },
    {
      "cell_type": "code",
      "metadata": {
        "colab": {
          "base_uri": "https://localhost:8080/",
          "height": 601
        },
        "id": "nExrnUemoRfJ",
        "outputId": "5860debc-23c1-42ea-e345-b24e9378f7e0"
      },
      "source": [
        "# Look at the distribution of the labels\n",
        "print(train['category'].value_counts(normalize=True))\n",
        "\n",
        "plt.figure(figsize=(12,8))\n",
        "sns.countplot(y='category', data=train, palette='husl');"
      ],
      "execution_count": 11,
      "outputs": [
        {
          "output_type": "stream",
          "name": "stdout",
          "text": [
            "Kitaifa      0.388274\n",
            "michezo      0.333916\n",
            "Biashara     0.264026\n",
            "Kimataifa    0.010483\n",
            "Burudani     0.003300\n",
            "Name: category, dtype: float64\n"
          ]
        },
        {
          "output_type": "display_data",
          "data": {
            "image/png": "[encoded data removed]",
            "text/plain": [
              "<Figure size 864x576 with 1 Axes>"
            ]
          },
          "metadata": {
            "needs_background": "light"
          }
        }
      ]
    },
    {
      "cell_type": "markdown",
      "metadata": {
        "id": "qTBKSrqnpKJw"
      },
      "source": [
        "Kimataifa and Burudani seem to be imbalanced compared to the rest of the data"
      ]
    },
    {
      "cell_type": "code",
      "metadata": {
        "id": "iMpBoYQ8y-Vx"
      },
      "source": [
        "# Convert target to numerical\n",
        "mapping = {\n",
        "    'Kitaifa':0,\n",
        "    'Biashara':1,\n",
        "    'michezo':2,\n",
        "    'Kimataifa':3,\n",
        "    'Burudani':4\n",
        "}\n",
        "\n",
        "\n",
        "train['category'].replace(to_replace=mapping, inplace=True)"
      ],
      "execution_count": 12,
      "outputs": []
    },
    {
      "cell_type": "markdown",
      "metadata": {
        "id": "kd1EEjAPpz-i"
      },
      "source": [
        "**Text Preprocessing**"
      ]
    },
    {
      "cell_type": "code",
      "metadata": {
        "id": "760cFJZTonSp"
      },
      "source": [
        "# Get text and target values\n",
        "texts = train['content'].values\n",
        "target = train['category'].values"
      ],
      "execution_count": 13,
      "outputs": []
    },
    {
      "cell_type": "code",
      "metadata": {
        "id": "hJU_AxfY5wED"
      },
      "source": [
        "target_new = tf.keras.utils.to_categorical(target)"
      ],
      "execution_count": 14,
      "outputs": []
    },
    {
      "cell_type": "code",
      "metadata": {
        "colab": {
          "base_uri": "https://localhost:8080/"
        },
        "id": "xgVC6zIB57BC",
        "outputId": "fee8b52b-7d32-423c-ebec-b9347aaf73bf"
      },
      "source": [
        "target.shape"
      ],
      "execution_count": 15,
      "outputs": [
        {
          "output_type": "execute_result",
          "data": {
            "text/plain": [
              "(5151,)"
            ]
          },
          "metadata": {},
          "execution_count": 15
        }
      ]
    },
    {
      "cell_type": "code",
      "metadata": {
        "colab": {
          "base_uri": "https://localhost:8080/"
        },
        "id": "wt5hJzK9qMl-",
        "outputId": "a69a28e8-8cc3-4bf6-ba94-b2890a4c49c8"
      },
      "source": [
        "# Observe texts\n",
        "for i in range(1,10):\n",
        "  print(f'{i}:{texts[i]}')"
      ],
      "execution_count": 16,
      "outputs": [
        {
          "output_type": "stream",
          "name": "stdout",
          "text": [
            "1: Mkuu wa Mkoa wa Tabora, Aggrey Mwanri amesitisha likizo za viongozi wote mkoani humo kutekeleza maazimio ya Jukwaa la Fursa za Biashara la mkoa huo.Mwanri ameagiza kuwa, hata kama kuna likizo zimeidhinishwa zifutwe.Amemuagiza Katibu Tawala wa Mkoa huo, Msalika Makungu kuandika barua kwa viongozi kuhusu uamuzi huo na amebainisha kuwa hakushauriwa na mtu, kaamua yeye.“Anayebisha anyooshe mkono, ajifanye angalau anajikuna tu” amesema Mwanri kwenye jukwaa hilo la nane lililomalizika leo.Amewaeleza viongozi wa Tabora kuwa, mambo waliyopanga kuyafanya wakati wa likizo nje ya Tabora wanaweza kuyafanya mkoani humo hivyo wawaite ndugu zao waende mkoani humo.Kiongozi huyo wa Tabora amewaagiza maofisa ugani mkoani humo watoke ofisini wahamie shambani.Viongozi mbalimbali wamehudhuria jukwaa la Tabora akiwemo mwenyekiti wa jukwaa hilo, Waziri wa Habari, Utamaduni, Sanaa na Michezo, Dk. Harrison Mwakyembe, Waziri wa Viwanda, Biashara na Uwekezaji Joseph Kakunda, Mwenyekiti wa Bodi ya Kampuni ya Magazeti ya Serikali, Hab Mkwizu na Mwenyekiti wa Chama cha Mapinduzi (CCM) Mkoa wa Tabora, Hassan Wakasuvi.Viongozi wengine waliohudhuria jukwaa hilo ni wakuu wa wilaya, wakurugenzi watendaji wa Halmashauri, makatibu tawala wa wilaya, wenyeviti wa halmashauri za wilaya, wakuu wa taasisi na waendai wengine mkoani humo.\n",
            "2: SERIKALI imetoa miezi sita kwa taasisi zote za umma ambazo hazitumii mfumo wa GePG katika ukusanyaji wa fedha kufanya hivyo na baada ya hapo itafanya ukaguzi na kuwawajibisha maofi sa masuhuli walioshindwa kutekeleza hilo.Akifungua mkutano wa mwaka wa kwanza wa watumiaji wa mfumo huo jana jijini hapa, Naibu Katibu Mkuu Wizara ya Fedha na Mipango, Dk Hartibu Kazungu alisema ukaguzi huo ambao utaanza kufanyika Juni mwakani baada ya kipindi kilichowekwa kupita ili kuwabaini maofisa wazembe.Alisema, wizara yake itafanya ukaguzi wa ofisi zote za umma ili kubaini kama kuna fedha zinazokusanywa bila kupitia kwenye mfumo wa GePG na kuwa ofisi itakayobainika kutotumia mfumo huo maofisa masuhuli watawajibishwa kwa mujibu wa sheria.“Mnifikishie ujumbe wa kuzikumbusha taasisi ambazo hazijaanza kutumia mfumo wa ukusanyaji mapato wa GePG kufanya hivyo, kwani tunataka hadi kufikia Juni 30, mwaka 2019, kusiwe na fedha yoyote kwenye taasisi ya umma ambayo inakusanywa nje ya mfumo huu,” alisema.Hata hivyo, alisisitiza kuwa utaratibu wa malipo kupitia GePG unawapa fursa ya kuwa na njia nyingi za kulipia zikiwa na lengo la kuwapa walipaji wa huduma za serikali utaratibu rafiki na machaguo mengi ya njia za kufanya malipo.“Nimepewa taarifa kuwa takribani benki kumi na moja (11) na mitandao sita ya malipo kwa njia ya simu za kiganjani zimeshaunganishwa na GePG. “Hii ni kuthibitisha namna mfumo wa GePG umekuwa na fursa nyingi za ulipaji, hivyo kuweka mazingira kwa umma katika kufanya malipo hivyo kuondoa urasimu na ucheleweshaji usiofaa.”Dk Kazungu alisema kuwa mfumo huo ulianzishwa ili kuongeza uwazi na udhibiti wa fedha za umma, kuboresha na kurahisisha namna ya kulipia huduma za umma pamoja na kupunguza gharama zinazoambatana na ukusanyaji wa fedha za umma.Akizungumza na waandishi wa habari baada ya ufunguzi huo Mkurugenzi wa mfumo kutoka wizara hiyo, John Sausi alisema changamoto wanayokuta nayo katika utekelezaji wa mfumo huo uelewa mdogo wa namna ya kutumia.Katika utekelezaji wa mfumo huo tuna changamoto moja kubwa ambayo ni uelewa wa watumiaji wa mfumo kushindwa kutumia vyema mfumo huu vizuri hivyo kulazimika kutumia watu wa operesheni kwa ajili ya kurudia utoaji wa elimu.Alisema changamoto nyingine ni ukosekanaji kwa mtandao katika maeneo ya vijijini hivyo mfumo kushindwa kufanya kazi. “Changamoto ya mtandao tunaangalia namna ya kukabiliana nayo mwaka mzima tangu kuanza kwa mfumo huu, lakini kama wizara tunaamini haiwezi kutusumbua,” alisema. Aidha, Sausi alisema tangu kuanza kutumika kwa mufmo huo hapa nchini hadi sasa taasisi 326 tayari zinatumia mfumo huo katika kutoa huduma.\n",
            "3: KAMPUNI ya mchezo wa kubahatisha ya M-bet imeingia makubaliano ya udhamini na timu ya soka ya Manispaa ya Kinondoni (KMC) kwa miaka mitano wenye thamani ya sh Bilioni 1.Akizungumzia udhamini huo jana baada ya kusaini mkataba huo, Meneja Masoko wa Mbet, Allen Mushi alisema sababu ya kuiunga mkono timu hiyo ni baada ya kuvutiwa na kiwango bora walichokionesha timu hiyo tangu msimu uliopita. Alisema kitendo cha kumaliza ligi katika nafasi ya nne bora sio cha mchezo na kwamba hata wanapokuwa uwanjani hucheza soka la kuvutia tofauti na wengine.“Tumeichagua KMC kwasababu tumevutiwa na mambo mengi, kwanza jinsi wanavyojiongoza katika mipango yao ya muda mfupi na mrefu, lakini kingine wanapokuwa uwanjani soka lao ni la kuvutia,”alisema.Alisema wanaweza kuboresha kiwango cha fedha kila mwaka endapo timu hiyo itakuwa inafanya vizuri na hata kuchukua taji la Ligi Kuu. Kwa upande wake, Meya wa Manispaa ya Kinondoni Benjamini Sitta alisema udhamini huo hauzuii fursa mbalimbali kutoka kwa wadau wengine.Alisema fursa za kudhamini timu hiyo zipo na wanategemea wengine watajitokeza kuwaunga mkono kuelekea katika harakati zao za kujenga uwanja wa kisasa wa klabu hiyo.Katika hatua nyingine, Kocha wa KMC Jakson Mayanja alizungumzia maandalizi ya kikosi chake kuelekea katika mchezo wa marudiano wa Kombe la Shirikisho Afrika dhidi ya AS Kigali kuwa yanakwenda vizuri. Mchezo huo utafanyika kesho Ijumaa.\n",
            "4: WATANZANIA wamekumbushwa kusherehekea sikukuu ya Krismasi kwa kuenzi amani, umoja na kulinda tamaduni za nchi ili kupambana na changamoto mbalimbali zinazojitokeza, ikiwemo vitendo vya ushoga na matumizi ya dawa za kulevya.Akizungumza wakati wa kutoa heri ya sikukuu hiyo ya Kuzaliwa Yesu Kristo, Kiongozi wa Waislamu wa madhehebu ya Shia Ithnasheriya, Shehe Hemed Jalala alisema kuzaliwa kwa Yesu kunalenga kuhubiri na kutangaza amani ulimwenguni. Shehe Jalala alisema licha ya Wayahudi kutilia shaka kuzaliwa kwa Yesu, lakini pindi alipozaliwa alitangaza amani kwake na duniani kote akitaka kila mtu kuishi kwa upendo, amani na umoja.“Jamii yenye amani mara nyingi hupambana na vitendo vya uvunjifu wa amani, kulinda mila na desturi kwa kupinga vitendo vya ushoga, matumizi ya dawa za kulevya na rushwa. Pia upendo utatawala miongoni mwa majirani, familia na kutokuwa na ukabila,” alisema Shehe Jalala. Pia alisema nchi inayoondoa ujinga, kupambana na maradhi na kuhimiza watu wake kufanya kazi kwa bidii, ina lengo la kudumisha amani hivyo huenda sambamba na ujumbe wa amani aliouacha Yesu.Shehe Jalala alisema amani inaenziwa katika nyanja mbalimbali kuanzia kwa mtu mmoja mmoja, kitaifa na kimataifa na kwamba eneo ambalo kuna uhuru wa kuabudu na mtu kujifanyia mambo yake mwenyewe ni ishara ya uwepo wa amani. “Katika Kitabu Kitakatifu cha Kurani, Mwenyezi Mungu amezungumzia kuzaliwa kwa Yesu na neno la kwanza Yesu (Isa bin Mariam) ni amani iwe kwangu siku niliyozaliwa, kufa na kufufuka nikiwa hai,” alisisitiza.Aliongeza kuwa mambo yote yanayosababisha uvunjifu wa amani yasipewe nafasi badala yake kuendelea kudumisha upendo na amani siku zote. Kwa upande wake, Mkurugenzi wa Taasisi ya Kikristo ya Outreach Ministries (TCOM), Mchungaji Banza Seleman alisema Yesu alizaliwa baada ya mwanadamu kumuasi Mwenyezi Mungu hivyo alikuja kuwakomboa kutoka dhambini.Alisema kuja kwa mkombozi huo ni upendo mkubwa wa Mungu kwa wanadamu na kwamba lengo ni kuihubiri amani na upendo ili watu waweze kushirikiana na kusaidiana. “Katika Biblia na Kurani, vitabu hivi vinaeleza kuwa Yesu ni mfalme wa amani hivyo tunastahili kulinda amani, kuishi kwa upendo na umoja. Yesu alizaliwa ili aweze kuhubiri amani kwa watu wote,” alisema Mchungaji Seleman.\n",
            "5: Malkia wa Mipasho Afrika Mashariki, Khadija Omary Kopa amesema wasanii nchini hawana umoja, na kwamba, wale wa bongo fleva na watu wengine, wanawaona wa taarabu ni watu wa hali ya chini na masikini.Amesema jijini Dar es Salaam kuwa, kutokana na mtazamo huo, wasanii wa fani nyingine wamekuwa hawawashirikishi katika mambo yao wale wa taarabu.Amedai kuwa, hata Serikali imekuwa haiwajali wasanii wa taarabu hata inapotokea misiba, na ametoa mfano mfano wa ajali iliyowaua wasanii wengi wa Kundi la Zanzibar Stars Modern Taarabu.Amesema umoja uwe kwa wasanii wote na sio kwa baadhi tu na alilalamika kuwa wamekuwa wakitozwa fedha nyingi wakitaka maeneo ya kurekodia video zao za nyimbo.Katika mkutano huo, muimbaji wa muziki wa dansi nchini, Nyosh El Saadat amesema, amechoka kuwakimbia watu wa Uhamiaji na sasa anataka uraia wa Tanzania baada ya kuishi nchini kwa zaidi ya miaka 20.Nyoshi alimwambia Mkuu wa Mkoa wa Dar es Salaam, Paul Makonda wakati wa wasanii wa fani mbalimbali na wanamichezo walipokutana na mkuu huyo wa mkoa katika viwanja vya Leaders.Nyoshi alimwambia Makonda kuwa amekaa nchini kwa muda mrefu na mara kwa amekuwa akijificha uvunguni ya kitanda au kupanda darini kujificha kuakwepa watu wa Idara ya Uhamiaji kutokana na kutokuwa na uraia.Alisema kuwa sasa wakati umefika kwa yeye kuwa raia wa Tanzania. Naye Kikumbi Mwanza Mpango au King Kiki aliwataka wasanii kupenda na kushirikiana bila ya kujali tofauti ya fani zao.Alitoa masikitiko yake kwa baadhi ya wasanii kutokuwa na ushirikiano miongoni mwao, hivyo aliwataka washirikiane.Nasseeb Abdul au Diamond amesema, mengi yamezungumza ila alipongeza ujenzi wa ukumbi mkubwa utakaoingiza watu 20,000, huku akiwapa shavu wasanii kupigiwa au kuoneshwa bure katika Wasafi Radio na Wasafi TV.\n",
            "6: Meneja Masoko na Mawasiliano wa taasisi hiyo, Ngula Cheyo aliyasema hayo jana ikiwa ni siku chache baada ya kuzinduliwa kwa huduma ya mikopo ya viwanja jijini Dar es Salaam, huku akisisitiza kwamba si lazima mkopaji wa viwanja hivyo atoke Dar es Salaam au Kibaha.Cheyo alisema kwamba huduma hiyo ni ya Watanzania wote, ndio sababu taasisi hiyo wamesambaza fomu za kuomba mkopo wa viwanja katika matawi yao mbalimbali, bila kusahau wale wanaoweza kukopa kwa njia ya mtandao.“Nafasi ni chache, maana maombi yetu yanafanyika kwa siku ishirini na yameanza Mei 22 hadi Juni 10, na fomu za maombi zinapatikana matawi yote ya taasisi yetu, bila kusahau kupitia B ank of Africa (BOA), ambapo malilipo ya awali yanaanzia Sh 150,000,” alisema.Alisema kukaa mikoani si sababu ya kushindwa kukopa kiwanja kwa sababu wamefungua matawi katika wilaya na mikoa mbalimbali.Meneja Biashara wa Bayport Financial Services, Thabit Mndeme, alisema ukubwa wa viwanja hivyo unaanzia hatua 15 kwa 16, huku thamani yake ikianzia Sh 1,400,000 bila riba.\n",
            "7: IDADI ya vifo vya waendesha bodaboda nchini vitokanavyo na ajali imepungua katika kipindi cha robo ya kwanza ya mwaka huu kinachoanzia Januari hadi Machi, ikilinganishwa na idadi ya vifo vya bodaboda kwa kipindi kama hicho kwa mwaka jana. Mwanasheria wa Kikosi cha Usalama Barabarani, Afande Deusi Sokoni akizungumza na gazeti hili katika mahojiano maalumu alisema kuwa idadi ya waendeshaji bodaboda waliopoteza maisha kwa mwaka huu ni 73 huku majeruhi wakiwa 121.Alisema, kwa mwaka jana kwa kipindi kama hicho waliopoteza maisha walikuwa ni 108 huku waliojeruhiwa ni 214. Sokoni aliongeza kuwa robo ya kwanza ya mwaka huu kwa upande wa waendesha baiskeli waliopoteza maisha kwa ajali za barabarani walikuwa 23 idadi ambayo ni sawa na ya majeruhi lakini mwaka jana kuanzia Januari hadi Machi, idadi ya waliokufa ilikuwa ni 34 huku waliojeruhiwa wakiwa 30. Alisema pia waendesha mikokoteni tisa wamekufa na wanne wamejeruhiwa huku mwaka jana aliyekufa alikuwa mmoja na 12 walijeruhiwa. Kundi la watembea kwa miguu ambalo ni moja kati ya waathirika wakubwa wa ajali kwa mwaka huu wamekufa 90 na kujeruhiwa 106. Wakati kwa mwaka jana waliokufa walikuwa 163 na kujeruhiwa 179. Kwa upande wa abiria waliokufa kwa ajali kwa mwaka huu ni 108 na 393 wamekumbwa na majeraha mbalimbali wakati kwa mwaka jana waliokufa walikuwa 191 na majeruhi 575.\n",
            "8: Katika uzinduzi huo, rais amesema kuna haja ya kutafuta majawabu kuhusu namna ya kuongeza maghala ya kuhifadhia mazao kwani kadiri kilimo kinavyoboreshwa mazao yanayozalishwa yanakosa pa kuhifadhiwa.Rais Kikwete aliyasema hayo- Dar es Salaam juzi wakati akizindua kampuni hiyo ambayo itakuwa chini ya Mamlaka ya Soko la Bidhaa Tanzania (CMSA). Alisema uzinduzi wa soko hilo ambalo litaanza kufanya kazi rasmi mwezi Mei, mwakani kwa kuanzia na mazao ya korosho, ufuta, alizeti na mpunga ni muendelezo wa jitihada za serikali katika kuleta mageuzi ya kilimo nchini.“Hii ni habari njema kwa wakulima wa Tanzania kwani katika jitihada zetu za kuleta mageuzi ya kilimo zisingefanikiwa kama Tanzania kusingekuwa na soko la uhakika. Mfumo uliopo sasa unawakandamiza wakulima na kuwanufaisha walanguzi,” alisema Rais Kikwete.Alisema pamoja na kuanzishwa kwa sera ya kilimo kwanza, stakabadhi ghalani, uanzishwaji wa benki ya wakulima na vyama vya ushirika kwa ajili ya kuboresha sekta ya kilimo nchini, bado sekta hiyo ilikabiliwa na tatizo la ukosefu wa uhakika wa masoko.Mkurugenzi wa bodi ya wakurugenzi wa TMX, Peter Noni alisema kampuni hiyo ilisajiliwa Agosti, mwaka jana kama kiungo muhimu katika mchakato wa kuanzisha soko la bidhaa nchini.Aliwataja wanahisa waanzilishi wa kampuni hiyo kuwa ni msajili wa hazina, Mfuko wa Pensheni kwa Watumishi wa Umma (PSPF), Benki ya Maendeleo (TIB) na Shirika la Vyama vya Ushirika.\n",
            "9: Mshindi wa mchezo utakaozikutanisha Tottenham huko Rochdale jana atakutana na Sheffield Jumatano au Swansea, ambaye atacheza baada ya suluhu ya jana Jumamosi.Southampton leo itasafiri na kucheza na mshindi kati ya Manchester City na Wigan, wakati Leicester na Chelsea watakutana katika mchezo utakaozikutanisha timu za Ligi Kuu.Rochdale, timu ya chini kabisa iliyobaki katika mashindano hayo, iko mkiani katika Ligi Daraja la Pili, jana ilitarajia kucheza dhidi ya Tottenham. Wigan, iliyopo katika nafasi ya pili katika Ligi Daraja la Pili, itacheza dhidi ya Manchester City leo Jumatatu.Leicester, ambayo iliifunga Sheffield United 1-0 Ijumaa, itakuwa na kibarua kigumu wakati itakapocheza dhidi ya Chelsea, ambao nao walishinda Ijumaa kwa mabao 4-0 dhidi ya Hull City.Ratiba ya robo fainali ya FA Cup Leicester v Chelsea Man United v Brighton Sheffield au Swansea v Rochdale au Tottenham Wigan au Manchester City v Southampton\n"
          ]
        }
      ]
    },
    {
      "cell_type": "code",
      "metadata": {
        "id": "QoybZFPGqWs6"
      },
      "source": [
        "# Define Tokenizer\n",
        "\n",
        "def tokenizer(texts):\n",
        "  # tokenize text\n",
        "  tokenizer = Tokenizer(num_words=10000, oov_token='<OOV>')\n",
        "  tokenizer.fit_on_texts(texts)\n",
        "  #Get the word index\n",
        "  word_index = tokenizer.word_index\n",
        "  words = len(word_index) + 1\n",
        "\n",
        "  # Create padded sequences\n",
        "  sequences = tokenizer.texts_to_sequences(texts)\n",
        "  seq_length = 50\n",
        "  padded_sentences = pad_sequences(sequences, maxlen=seq_length, truncating='post')\n",
        "\n",
        "  return padded_sentences, words, word_index"
      ],
      "execution_count": 17,
      "outputs": []
    },
    {
      "cell_type": "code",
      "metadata": {
        "id": "Qqm02ofIraWV"
      },
      "source": [
        "# Preprocess text\n",
        "\n",
        "def preprocess_text(texts):\n",
        "  new_texts = []\n",
        "  for text in texts:\n",
        "    # Make lower\n",
        "    text = text.lower()\n",
        "\n",
        "    # Remove url\n",
        "    text = re.sub(r'https?:\\/\\/\\S+', '', text)\n",
        "    text = re.sub(r\"www\\.[a-z]?\\.?(com)+|[a-z]+\\.(com)\", '', text)\n",
        "\n",
        "    # Remove punctuation\n",
        "    text = re.sub(r'[^\\w\\s]', '', text)\n",
        "\n",
        "    # Remove placeholders\n",
        "    text = re.sub(r\"\\[video\\]\", '', text)\n",
        "    text = re.sub(r'{link}', '', text)\n",
        "\n",
        "    # HTML and non letter characters\n",
        "    text = re.sub(r'&[a-z]+;', '', text)\n",
        "    text = re.sub(r\"[^a-z\\s\\(\\-:\\)\\\\\\/\\];='#]\", '', text)\n",
        "\n",
        "    # Remove mentions\n",
        "    text = re.sub('@[\\w]+','', text)\n",
        "\n",
        "    new_texts.append(text)\n",
        "\n",
        "  # Tokenize texts\n",
        "  \n",
        "  padded_sentences, word_length, word_index = tokenizer(new_texts)\n",
        "\n",
        "  return padded_sentences, word_length, word_index"
      ],
      "execution_count": 18,
      "outputs": []
    },
    {
      "cell_type": "code",
      "metadata": {
        "id": "XnCuJJUjtoEt"
      },
      "source": [
        "# Text preprocessing\n",
        "padded_sentences, word_length, word_index = preprocess_text(texts)"
      ],
      "execution_count": 19,
      "outputs": []
    },
    {
      "cell_type": "code",
      "metadata": {
        "colab": {
          "base_uri": "https://localhost:8080/"
        },
        "id": "dSiYA7DZt0jD",
        "outputId": "4597db87-8c65-48cf-c730-80186d231af6"
      },
      "source": [
        " # Observe Padded sentences\n",
        "for i in range(1,10):\n",
        "  print(f'{i}:{padded_sentences[i]}')"
      ],
      "execution_count": 20,
      "outputs": [
        {
          "output_type": "stream",
          "name": "stdout",
          "text": [
            "1:[  35    4   61    4  426 3177 2808    1 3101    7  166  124  131  498\n",
            "  422 3233    2  635    9  116    7   71    9   61    1 2129   11  130\n",
            "   24  121 3101    1    1  321  843    4   61   16    1 7798 1388  900\n",
            "    5  166  150  506   16    3 3178   11]\n",
            "2:[  17 1082  499  285    5  144  138    7  369  165    1  225    4 8901\n",
            "    6 1059    4   42   45   26    3   19    2  293 2608  698    3    1\n",
            "    1 5064    1 9621  422    1  235    4   15    4   81    4 1343    4\n",
            "  225   16   49  154  156  360  321   35]\n",
            "3:[  83    2   37    4 3460    2    1 3395  621    2 2234    3   23    2\n",
            "  180    2  671    2 1493 1127    5   60  808  162  286    2   38  128\n",
            "  958 2234   16   49   19    2 1756  264   16  415  414    4    1    1\n",
            " 5615   10  123    2 3778  445   23   12]\n",
            "4:[ 185    1 2809 1823    2 2933    5 6074  556  538    3  736 7800    7\n",
            "   25   18  502    3  174   54 7801  188  544   21 4889    3  216    2\n",
            "  390    7    1   29    4   87 3461    2 1823   12    2 2609 3534 6994\n",
            "  740    4 2045    4 3462    2 9623    1]\n",
            "5:[7356    4    1   63  275    1 2570 7357   84  838   28  724  538    3\n",
            "   51  495    4 2529 4744    3   59  187    1    4    1    8   59    4\n",
            "  137    2  177    3    1  154   52   55   72   11   69    3 3603   16\n",
            "  838    4 2530  159  403    1    6  219]\n",
            "6:[ 415  414    3  349    4  144   12    1    1 1240   32   49  111    8\n",
            "   90 1192   19    2 3535    5   56    2  392    2  443  154   52   55\n",
            "   72   76 2097   51  338  329    1    4  443   26 9627   52   55   72\n",
            "  112    1   10   51   56   12    8    2]\n",
            "7:[ 350    2 1264   21 2811 2006   28 8912    3  896 6079    6  140   13\n",
            "  853    2   81    2   15   46    1  345   50  647  839    3  350    2\n",
            " 1264   21 2006    5  140   24  103    5   15   49 1934    4  202   13\n",
            "  399 1293    1    1 1782  322    3  464]\n",
            "8:[   6  755   16   48   84  121 1157    2  641    1  150  310    2  127\n",
            " 2275    2 2936  309  107 3536  153    1  309 5832    1 2466    1 1451\n",
            " 1240   32   52   55   72  247   29 2572   83   12   53  408  177    2\n",
            "  182    2  212    9  151   20    1   10]\n",
            "9:[ 747    4   37    1  531  510    1   49 5418    3 2655 1520  112 5419\n",
            "  106 5420   19    2  935    2   49    1  176 8913    3  217    3  747\n",
            "   62    2  234  419    3 8334   29 1209    3  610 3974    6   37    1\n",
            "   23    7   74    1   23    2  177  653]\n"
          ]
        }
      ]
    },
    {
      "cell_type": "code",
      "metadata": {
        "colab": {
          "base_uri": "https://localhost:8080/"
        },
        "id": "0FVzXvWGvhjU",
        "outputId": "add4910b-a9d6-45a3-a223-727dc3a3e9ef"
      },
      "source": [
        "padded_sentences.shape"
      ],
      "execution_count": 21,
      "outputs": [
        {
          "output_type": "execute_result",
          "data": {
            "text/plain": [
              "(5151, 50)"
            ]
          },
          "metadata": {},
          "execution_count": 21
        }
      ]
    },
    {
      "cell_type": "markdown",
      "metadata": {
        "id": "lq9oTzuKvhOS"
      },
      "source": [
        "# Modelling"
      ]
    },
    {
      "cell_type": "code",
      "metadata": {
        "id": "RDucYEeXuD-k"
      },
      "source": [
        "# Get the embedding layer \n",
        "!wget --no-check-certificate \\\n",
        "    https://nlp.stanford.edu/data/glove.6B.zip \\\n",
        "    -o \\content\\drive\\glove.zip"
      ],
      "execution_count": 22,
      "outputs": []
    },
    {
      "cell_type": "code",
      "metadata": {
        "colab": {
          "base_uri": "https://localhost:8080/"
        },
        "id": "ml1FdgPExFDy",
        "outputId": "b3f42853-7458-40d6-845b-d1371133c534"
      },
      "source": [
        "#Unzip the data\n",
        "!unzip /content/glove.6B.zip"
      ],
      "execution_count": 23,
      "outputs": [
        {
          "output_type": "stream",
          "name": "stdout",
          "text": [
            "Archive:  /content/glove.6B.zip\n",
            "replace glove.6B.50d.txt? [y]es, [n]o, [A]ll, [N]one, [r]ename: n\n",
            "replace glove.6B.100d.txt? [y]es, [n]o, [A]ll, [N]one, [r]ename: n\n",
            "replace glove.6B.200d.txt? [y]es, [n]o, [A]ll, [N]one, [r]ename: n\n",
            "replace glove.6B.300d.txt? [y]es, [n]o, [A]ll, [N]one, [r]ename: n\n"
          ]
        }
      ]
    },
    {
      "cell_type": "code",
      "metadata": {
        "id": "kkg-0YHgxZfE"
      },
      "source": [
        "embeddings_index = {}\n",
        "with open('/content/glove.6B.50d.txt', 'r') as f:\n",
        "  for line in f:\n",
        "    values = line.split()\n",
        "    word = values[0]\n",
        "    coefs = np.asarray(values[1:], dtype='float32')\n",
        "    embeddings_index[word] = coefs\n",
        "  \n",
        "  f.close()"
      ],
      "execution_count": 24,
      "outputs": []
    },
    {
      "cell_type": "code",
      "metadata": {
        "id": "dpio67p-xcdu"
      },
      "source": [
        "# Create embeddings matrix\n",
        "\n",
        "embedding_matrix = np.zeros((word_length, 50))\n",
        "for word , i in word_index.items():\n",
        "  embedding_vector = embeddings_index.get(word)\n",
        "  if embedding_vector is not None:\n",
        "    embedding_matrix[i] = embedding_vector"
      ],
      "execution_count": 25,
      "outputs": []
    },
    {
      "cell_type": "code",
      "metadata": {
        "id": "NX7IzVHqxgSO"
      },
      "source": [
        "# Build model\n",
        "model = Sequential([\n",
        "                        Embedding(word_length, 50, input_length=50, weights=[embedding_matrix], trainable=True),\n",
        "                        Bidirectional(LSTM(10, return_sequences=True)),\n",
        "                        Bidirectional(LSTM(10)),\n",
        "                        Dense(16, activation='relu'),\n",
        "                        Dense(16, activation='relu'),\n",
        "                        Dense(5, activation='softmax')\n",
        "])\n",
        "\n",
        "adam = tf.keras.optimizers.Adam(0.001)\n",
        "auc = tf.keras.metrics.AUC(name='auc')\n",
        "model.compile(optimizer= adam,\n",
        "                  loss='binary_crossentropy',\n",
        "                  metrics=['accuracy', 'categorical_accuracy', auc])"
      ],
      "execution_count": 26,
      "outputs": []
    },
    {
      "cell_type": "code",
      "metadata": {
        "id": "LC58Hw9ixpzT"
      },
      "source": [
        "# Instantiate callbacks\n",
        "early_stopper = tf.keras.callbacks.EarlyStopping(monitor='val_loss',\n",
        "                                                 patience=5)\n",
        "\n",
        "  # reduce learning rate\n",
        "reduce_lr = tf.keras.callbacks.ReduceLROnPlateau(monitor = 'val_loss',\n",
        "                                  factor = 0.1,\n",
        "                                  patience = 2,\n",
        "                                  min_lr = 1e-6,\n",
        "                                  mode = 'min',\n",
        "                                  verbose = 1)\n",
        "\n",
        "callbacks = [early_stopper, reduce_lr]"
      ],
      "execution_count": 27,
      "outputs": []
    },
    {
      "cell_type": "code",
      "metadata": {
        "colab": {
          "base_uri": "https://localhost:8080/"
        },
        "id": "vYbh4dg2xtjV",
        "outputId": "f4f6dc84-d5fb-4670-f41a-49afaee7fbc2"
      },
      "source": [
        "# Train model\n",
        "skf = StratifiedKFold(n_splits=5, shuffle=True, random_state=7)\n",
        "\n",
        "  \n",
        "for train_index, test_index in skf.split(padded_sentences, target):\n",
        "    x_train_fold, x_test_fold = padded_sentences[train_index], padded_sentences[test_index]\n",
        "    y_train_fold, y_test_fold = target_new[train_index], target_new[test_index]\n",
        "    history = model.fit(x=x_train_fold,\n",
        "                        y=y_train_fold, \n",
        "                        batch_size=32,\n",
        "                        epochs=10,\n",
        "                        callbacks=callbacks,\n",
        "                        validation_data=(x_test_fold, y_test_fold),\n",
        "                        validation_batch_size=32)\n",
        "    "
      ],
      "execution_count": 28,
      "outputs": [
        {
          "output_type": "stream",
          "name": "stdout",
          "text": [
            "Epoch 1/10\n",
            "129/129 [==============================] - 17s 73ms/step - loss: 0.4818 - accuracy: 0.3658 - categorical_accuracy: 0.3658 - auc: 0.7411 - val_loss: 0.3937 - val_accuracy: 0.3919 - val_categorical_accuracy: 0.3919 - val_auc: 0.8014\n",
            "Epoch 2/10\n",
            "129/129 [==============================] - 8s 59ms/step - loss: 0.3456 - accuracy: 0.5362 - categorical_accuracy: 0.5362 - auc: 0.8646 - val_loss: 0.2580 - val_accuracy: 0.6712 - val_categorical_accuracy: 0.6712 - val_auc: 0.9289\n",
            "Epoch 3/10\n",
            "129/129 [==============================] - 8s 59ms/step - loss: 0.2410 - accuracy: 0.6837 - categorical_accuracy: 0.6837 - auc: 0.9341 - val_loss: 0.2554 - val_accuracy: 0.6673 - val_categorical_accuracy: 0.6673 - val_auc: 0.9245\n",
            "Epoch 4/10\n",
            "129/129 [==============================] - 8s 59ms/step - loss: 0.2175 - accuracy: 0.7303 - categorical_accuracy: 0.7303 - auc: 0.9491 - val_loss: 0.2374 - val_accuracy: 0.7420 - val_categorical_accuracy: 0.7420 - val_auc: 0.9388\n",
            "Epoch 5/10\n",
            "129/129 [==============================] - 8s 59ms/step - loss: 0.1639 - accuracy: 0.8641 - categorical_accuracy: 0.8641 - auc: 0.9708 - val_loss: 0.1941 - val_accuracy: 0.8147 - val_categorical_accuracy: 0.8147 - val_auc: 0.9536\n",
            "Epoch 6/10\n",
            "129/129 [==============================] - 8s 60ms/step - loss: 0.1090 - accuracy: 0.9197 - categorical_accuracy: 0.9197 - auc: 0.9803 - val_loss: 0.2032 - val_accuracy: 0.8157 - val_categorical_accuracy: 0.8157 - val_auc: 0.9478\n",
            "Epoch 7/10\n",
            "129/129 [==============================] - 8s 60ms/step - loss: 0.0838 - accuracy: 0.9403 - categorical_accuracy: 0.9403 - auc: 0.9819 - val_loss: 0.1908 - val_accuracy: 0.8400 - val_categorical_accuracy: 0.8400 - val_auc: 0.9414\n",
            "Epoch 8/10\n",
            "129/129 [==============================] - 8s 59ms/step - loss: 0.0634 - accuracy: 0.9583 - categorical_accuracy: 0.9583 - auc: 0.9857 - val_loss: 0.2026 - val_accuracy: 0.8419 - val_categorical_accuracy: 0.8419 - val_auc: 0.9377\n",
            "Epoch 9/10\n",
            "129/129 [==============================] - 8s 60ms/step - loss: 0.0528 - accuracy: 0.9638 - categorical_accuracy: 0.9638 - auc: 0.9887 - val_loss: 0.2059 - val_accuracy: 0.8390 - val_categorical_accuracy: 0.8390 - val_auc: 0.9339\n",
            "\n",
            "Epoch 00009: ReduceLROnPlateau reducing learning rate to 0.00010000000474974513.\n",
            "Epoch 10/10\n",
            "129/129 [==============================] - 8s 59ms/step - loss: 0.0429 - accuracy: 0.9699 - categorical_accuracy: 0.9699 - auc: 0.9921 - val_loss: 0.2130 - val_accuracy: 0.8322 - val_categorical_accuracy: 0.8322 - val_auc: 0.9334\n",
            "Epoch 1/10\n",
            "129/129 [==============================] - 8s 60ms/step - loss: 0.0826 - accuracy: 0.9384 - categorical_accuracy: 0.9384 - auc: 0.9791 - val_loss: 0.0444 - val_accuracy: 0.9699 - val_categorical_accuracy: 0.9699 - val_auc: 0.9909\n",
            "Epoch 2/10\n",
            "129/129 [==============================] - 8s 59ms/step - loss: 0.0760 - accuracy: 0.9415 - categorical_accuracy: 0.9415 - auc: 0.9820 - val_loss: 0.0445 - val_accuracy: 0.9699 - val_categorical_accuracy: 0.9699 - val_auc: 0.9913\n",
            "Epoch 3/10\n",
            "129/129 [==============================] - 8s 60ms/step - loss: 0.0716 - accuracy: 0.9464 - categorical_accuracy: 0.9464 - auc: 0.9838 - val_loss: 0.0444 - val_accuracy: 0.9699 - val_categorical_accuracy: 0.9699 - val_auc: 0.9918\n",
            "\n",
            "Epoch 00003: ReduceLROnPlateau reducing learning rate to 1.0000000474974514e-05.\n",
            "Epoch 4/10\n",
            "129/129 [==============================] - 8s 59ms/step - loss: 0.0682 - accuracy: 0.9498 - categorical_accuracy: 0.9498 - auc: 0.9844 - val_loss: 0.0444 - val_accuracy: 0.9699 - val_categorical_accuracy: 0.9699 - val_auc: 0.9918\n",
            "Epoch 5/10\n",
            "129/129 [==============================] - 8s 59ms/step - loss: 0.0678 - accuracy: 0.9500 - categorical_accuracy: 0.9500 - auc: 0.9844 - val_loss: 0.0444 - val_accuracy: 0.9699 - val_categorical_accuracy: 0.9699 - val_auc: 0.9918\n",
            "\n",
            "Epoch 00005: ReduceLROnPlateau reducing learning rate to 1.0000000656873453e-06.\n",
            "Epoch 6/10\n",
            "129/129 [==============================] - 8s 59ms/step - loss: 0.0675 - accuracy: 0.9505 - categorical_accuracy: 0.9505 - auc: 0.9845 - val_loss: 0.0444 - val_accuracy: 0.9699 - val_categorical_accuracy: 0.9699 - val_auc: 0.9918\n",
            "Epoch 7/10\n",
            "129/129 [==============================] - 8s 60ms/step - loss: 0.0675 - accuracy: 0.9505 - categorical_accuracy: 0.9505 - auc: 0.9845 - val_loss: 0.0444 - val_accuracy: 0.9699 - val_categorical_accuracy: 0.9699 - val_auc: 0.9918\n",
            "\n",
            "Epoch 00007: ReduceLROnPlateau reducing learning rate to 1e-06.\n",
            "Epoch 8/10\n",
            "129/129 [==============================] - 8s 60ms/step - loss: 0.0675 - accuracy: 0.9505 - categorical_accuracy: 0.9505 - auc: 0.9845 - val_loss: 0.0444 - val_accuracy: 0.9699 - val_categorical_accuracy: 0.9699 - val_auc: 0.9918\n",
            "Epoch 1/10\n",
            "129/129 [==============================] - 8s 59ms/step - loss: 0.0694 - accuracy: 0.9490 - categorical_accuracy: 0.9490 - auc: 0.9837 - val_loss: 0.0368 - val_accuracy: 0.9757 - val_categorical_accuracy: 0.9757 - val_auc: 0.9949\n",
            "Epoch 2/10\n",
            "129/129 [==============================] - 8s 59ms/step - loss: 0.0693 - accuracy: 0.9490 - categorical_accuracy: 0.9490 - auc: 0.9837 - val_loss: 0.0368 - val_accuracy: 0.9757 - val_categorical_accuracy: 0.9757 - val_auc: 0.9949\n",
            "Epoch 3/10\n",
            "129/129 [==============================] - 8s 61ms/step - loss: 0.0693 - accuracy: 0.9490 - categorical_accuracy: 0.9490 - auc: 0.9837 - val_loss: 0.0368 - val_accuracy: 0.9757 - val_categorical_accuracy: 0.9757 - val_auc: 0.9949\n",
            "Epoch 4/10\n",
            "129/129 [==============================] - 8s 59ms/step - loss: 0.0693 - accuracy: 0.9490 - categorical_accuracy: 0.9490 - auc: 0.9837 - val_loss: 0.0368 - val_accuracy: 0.9757 - val_categorical_accuracy: 0.9757 - val_auc: 0.9949\n",
            "Epoch 5/10\n",
            "129/129 [==============================] - 8s 59ms/step - loss: 0.0693 - accuracy: 0.9490 - categorical_accuracy: 0.9490 - auc: 0.9837 - val_loss: 0.0368 - val_accuracy: 0.9757 - val_categorical_accuracy: 0.9757 - val_auc: 0.9949\n",
            "Epoch 6/10\n",
            "129/129 [==============================] - 8s 60ms/step - loss: 0.0692 - accuracy: 0.9490 - categorical_accuracy: 0.9490 - auc: 0.9837 - val_loss: 0.0368 - val_accuracy: 0.9757 - val_categorical_accuracy: 0.9757 - val_auc: 0.9949\n",
            "Epoch 1/10\n",
            "129/129 [==============================] - 8s 60ms/step - loss: 0.0670 - accuracy: 0.9512 - categorical_accuracy: 0.9512 - auc: 0.9846 - val_loss: 0.0457 - val_accuracy: 0.9670 - val_categorical_accuracy: 0.9670 - val_auc: 0.9915\n",
            "Epoch 2/10\n",
            "129/129 [==============================] - 8s 59ms/step - loss: 0.0669 - accuracy: 0.9512 - categorical_accuracy: 0.9512 - auc: 0.9848 - val_loss: 0.0457 - val_accuracy: 0.9670 - val_categorical_accuracy: 0.9670 - val_auc: 0.9915\n",
            "Epoch 3/10\n",
            "129/129 [==============================] - 8s 60ms/step - loss: 0.0669 - accuracy: 0.9512 - categorical_accuracy: 0.9512 - auc: 0.9848 - val_loss: 0.0457 - val_accuracy: 0.9670 - val_categorical_accuracy: 0.9670 - val_auc: 0.9915\n",
            "Epoch 4/10\n",
            "129/129 [==============================] - 8s 59ms/step - loss: 0.0669 - accuracy: 0.9512 - categorical_accuracy: 0.9512 - auc: 0.9848 - val_loss: 0.0457 - val_accuracy: 0.9670 - val_categorical_accuracy: 0.9670 - val_auc: 0.9915\n",
            "Epoch 5/10\n",
            "129/129 [==============================] - 8s 60ms/step - loss: 0.0669 - accuracy: 0.9512 - categorical_accuracy: 0.9512 - auc: 0.9849 - val_loss: 0.0457 - val_accuracy: 0.9670 - val_categorical_accuracy: 0.9670 - val_auc: 0.9915\n",
            "Epoch 6/10\n",
            "129/129 [==============================] - 8s 59ms/step - loss: 0.0668 - accuracy: 0.9512 - categorical_accuracy: 0.9512 - auc: 0.9850 - val_loss: 0.0457 - val_accuracy: 0.9670 - val_categorical_accuracy: 0.9670 - val_auc: 0.9915\n",
            "Epoch 1/10\n",
            "129/129 [==============================] - 8s 59ms/step - loss: 0.0689 - accuracy: 0.9490 - categorical_accuracy: 0.9490 - auc: 0.9845 - val_loss: 0.0373 - val_accuracy: 0.9757 - val_categorical_accuracy: 0.9757 - val_auc: 0.9931\n",
            "Epoch 2/10\n",
            "129/129 [==============================] - 8s 59ms/step - loss: 0.0689 - accuracy: 0.9490 - categorical_accuracy: 0.9490 - auc: 0.9845 - val_loss: 0.0373 - val_accuracy: 0.9757 - val_categorical_accuracy: 0.9757 - val_auc: 0.9931\n",
            "Epoch 3/10\n",
            "129/129 [==============================] - 8s 59ms/step - loss: 0.0689 - accuracy: 0.9490 - categorical_accuracy: 0.9490 - auc: 0.9845 - val_loss: 0.0373 - val_accuracy: 0.9757 - val_categorical_accuracy: 0.9757 - val_auc: 0.9931\n",
            "Epoch 4/10\n",
            "129/129 [==============================] - 8s 59ms/step - loss: 0.0688 - accuracy: 0.9490 - categorical_accuracy: 0.9490 - auc: 0.9845 - val_loss: 0.0373 - val_accuracy: 0.9757 - val_categorical_accuracy: 0.9757 - val_auc: 0.9931\n",
            "Epoch 5/10\n",
            "129/129 [==============================] - 8s 58ms/step - loss: 0.0688 - accuracy: 0.9490 - categorical_accuracy: 0.9490 - auc: 0.9845 - val_loss: 0.0374 - val_accuracy: 0.9757 - val_categorical_accuracy: 0.9757 - val_auc: 0.9931\n",
            "Epoch 6/10\n",
            "129/129 [==============================] - 8s 60ms/step - loss: 0.0688 - accuracy: 0.9490 - categorical_accuracy: 0.9490 - auc: 0.9846 - val_loss: 0.0374 - val_accuracy: 0.9757 - val_categorical_accuracy: 0.9757 - val_auc: 0.9931\n"
          ]
        }
      ]
    },
    {
      "cell_type": "code",
      "metadata": {
        "id": "qrNdP1RzKsx4"
      },
      "source": [
        "# Test\n",
        "test_texts = test['content'].values\n",
        "\n",
        "padded_test, _, _ = preprocess_text(test_texts)"
      ],
      "execution_count": 30,
      "outputs": []
    },
    {
      "cell_type": "code",
      "metadata": {
        "id": "28I7OitnKlOY"
      },
      "source": [
        "# MAke predictions\n",
        "predictions = model.predict(padded_test)"
      ],
      "execution_count": 31,
      "outputs": []
    },
    {
      "cell_type": "code",
      "metadata": {
        "id": "teUBKmvWL5qZ"
      },
      "source": [
        "columns=['Kitaifa', 'Biashara', 'michezo', 'Kimataifa','Burudani']"
      ],
      "execution_count": 32,
      "outputs": []
    },
    {
      "cell_type": "code",
      "metadata": {
        "colab": {
          "base_uri": "https://localhost:8080/",
          "height": 206
        },
        "id": "3S658IdMLk9V",
        "outputId": "dea4bcdb-c17f-4911-ba91-664a5c71e868"
      },
      "source": [
        "# Create DF\n",
        "\n",
        "df = pd.DataFrame(predictions, columns=columns)\n",
        "\n",
        "df.head()"
      ],
      "execution_count": 33,
      "outputs": [
        {
          "output_type": "execute_result",
          "data": {
            "text/html": [
              "<div>\n",
              "<style scoped>\n",
              "    .dataframe tbody tr th:only-of-type {\n",
              "        vertical-align: middle;\n",
              "    }\n",
              "\n",
              "    .dataframe tbody tr th {\n",
              "        vertical-align: top;\n",
              "    }\n",
              "\n",
              "    .dataframe thead th {\n",
              "        text-align: right;\n",
              "    }\n",
              "</style>\n",
              "<table border=\"1\" class=\"dataframe\">\n",
              "  <thead>\n",
              "    <tr style=\"text-align: right;\">\n",
              "      <th></th>\n",
              "      <th>Kitaifa</th>\n",
              "      <th>Biashara</th>\n",
              "      <th>michezo</th>\n",
              "      <th>Kimataifa</th>\n",
              "      <th>Burudani</th>\n",
              "    </tr>\n",
              "  </thead>\n",
              "  <tbody>\n",
              "    <tr>\n",
              "      <th>0</th>\n",
              "      <td>0.281077</td>\n",
              "      <td>0.717583</td>\n",
              "      <td>0.000154</td>\n",
              "      <td>0.001099</td>\n",
              "      <td>0.000086</td>\n",
              "    </tr>\n",
              "    <tr>\n",
              "      <th>1</th>\n",
              "      <td>0.510805</td>\n",
              "      <td>0.006269</td>\n",
              "      <td>0.437460</td>\n",
              "      <td>0.036546</td>\n",
              "      <td>0.008920</td>\n",
              "    </tr>\n",
              "    <tr>\n",
              "      <th>2</th>\n",
              "      <td>0.999087</td>\n",
              "      <td>0.000780</td>\n",
              "      <td>0.000024</td>\n",
              "      <td>0.000097</td>\n",
              "      <td>0.000013</td>\n",
              "    </tr>\n",
              "    <tr>\n",
              "      <th>3</th>\n",
              "      <td>0.979157</td>\n",
              "      <td>0.001854</td>\n",
              "      <td>0.006930</td>\n",
              "      <td>0.011138</td>\n",
              "      <td>0.000922</td>\n",
              "    </tr>\n",
              "    <tr>\n",
              "      <th>4</th>\n",
              "      <td>0.004101</td>\n",
              "      <td>0.995708</td>\n",
              "      <td>0.000008</td>\n",
              "      <td>0.000162</td>\n",
              "      <td>0.000020</td>\n",
              "    </tr>\n",
              "  </tbody>\n",
              "</table>\n",
              "</div>"
            ],
            "text/plain": [
              "    Kitaifa  Biashara   michezo  Kimataifa  Burudani\n",
              "0  0.281077  0.717583  0.000154   0.001099  0.000086\n",
              "1  0.510805  0.006269  0.437460   0.036546  0.008920\n",
              "2  0.999087  0.000780  0.000024   0.000097  0.000013\n",
              "3  0.979157  0.001854  0.006930   0.011138  0.000922\n",
              "4  0.004101  0.995708  0.000008   0.000162  0.000020"
            ]
          },
          "metadata": {},
          "execution_count": 33
        }
      ]
    },
    {
      "cell_type": "code",
      "metadata": {
        "colab": {
          "base_uri": "https://localhost:8080/"
        },
        "id": "Eb39bWOcNJVG",
        "outputId": "31e07a78-c9a5-4977-f134-82c4ef7fef21"
      },
      "source": [
        "df.info()"
      ],
      "execution_count": 34,
      "outputs": [
        {
          "output_type": "stream",
          "name": "stdout",
          "text": [
            "<class 'pandas.core.frame.DataFrame'>\n",
            "RangeIndex: 1288 entries, 0 to 1287\n",
            "Data columns (total 5 columns):\n",
            " #   Column     Non-Null Count  Dtype  \n",
            "---  ------     --------------  -----  \n",
            " 0   Kitaifa    1288 non-null   float32\n",
            " 1   Biashara   1288 non-null   float32\n",
            " 2   michezo    1288 non-null   float32\n",
            " 3   Kimataifa  1288 non-null   float32\n",
            " 4   Burudani   1288 non-null   float32\n",
            "dtypes: float32(5)\n",
            "memory usage: 25.3 KB\n"
          ]
        }
      ]
    },
    {
      "cell_type": "code",
      "metadata": {
        "colab": {
          "base_uri": "https://localhost:8080/"
        },
        "id": "NL47V-cZNMtC",
        "outputId": "becfc294-4ba2-42b9-c148-5cd7a8cd3ee1"
      },
      "source": [
        "submission.info()"
      ],
      "execution_count": 35,
      "outputs": [
        {
          "output_type": "stream",
          "name": "stdout",
          "text": [
            "<class 'pandas.core.frame.DataFrame'>\n",
            "RangeIndex: 1288 entries, 0 to 1287\n",
            "Data columns (total 6 columns):\n",
            " #   Column      Non-Null Count  Dtype \n",
            "---  ------      --------------  ----- \n",
            " 0   swahili_id  1288 non-null   object\n",
            " 1   kitaifa     1288 non-null   int64 \n",
            " 2   michezo     1288 non-null   int64 \n",
            " 3   biashara    1288 non-null   int64 \n",
            " 4   kimataifa   1288 non-null   int64 \n",
            " 5   burudani    1288 non-null   int64 \n",
            "dtypes: int64(5), object(1)\n",
            "memory usage: 60.5+ KB\n"
          ]
        }
      ]
    },
    {
      "cell_type": "code",
      "metadata": {
        "colab": {
          "base_uri": "https://localhost:8080/",
          "height": 206
        },
        "id": "Wvcjf-36MLxY",
        "outputId": "2aa2521e-d184-4517-eb1f-2dc18e8c35c0"
      },
      "source": [
        "sub = submission[['swahili_id']]\n",
        "\n",
        "final_sub = pd.concat([sub, df], axis=1)\n",
        "\n",
        "final_sub.head()"
      ],
      "execution_count": 36,
      "outputs": [
        {
          "output_type": "execute_result",
          "data": {
            "text/html": [
              "<div>\n",
              "<style scoped>\n",
              "    .dataframe tbody tr th:only-of-type {\n",
              "        vertical-align: middle;\n",
              "    }\n",
              "\n",
              "    .dataframe tbody tr th {\n",
              "        vertical-align: top;\n",
              "    }\n",
              "\n",
              "    .dataframe thead th {\n",
              "        text-align: right;\n",
              "    }\n",
              "</style>\n",
              "<table border=\"1\" class=\"dataframe\">\n",
              "  <thead>\n",
              "    <tr style=\"text-align: right;\">\n",
              "      <th></th>\n",
              "      <th>swahili_id</th>\n",
              "      <th>Kitaifa</th>\n",
              "      <th>Biashara</th>\n",
              "      <th>michezo</th>\n",
              "      <th>Kimataifa</th>\n",
              "      <th>Burudani</th>\n",
              "    </tr>\n",
              "  </thead>\n",
              "  <tbody>\n",
              "    <tr>\n",
              "      <th>0</th>\n",
              "      <td>001dd47ac202d9db6624a5ff734a5e7dddafeaf2</td>\n",
              "      <td>0.281077</td>\n",
              "      <td>0.717583</td>\n",
              "      <td>0.000154</td>\n",
              "      <td>0.001099</td>\n",
              "      <td>0.000086</td>\n",
              "    </tr>\n",
              "    <tr>\n",
              "      <th>1</th>\n",
              "      <td>0043d97f7690e9bc02f0ed8bb2b260d1d44bad92</td>\n",
              "      <td>0.510805</td>\n",
              "      <td>0.006269</td>\n",
              "      <td>0.437460</td>\n",
              "      <td>0.036546</td>\n",
              "      <td>0.008920</td>\n",
              "    </tr>\n",
              "    <tr>\n",
              "      <th>2</th>\n",
              "      <td>00579c2307b5c11003d21c40c3ecff5e922c3fd8</td>\n",
              "      <td>0.999087</td>\n",
              "      <td>0.000780</td>\n",
              "      <td>0.000024</td>\n",
              "      <td>0.000097</td>\n",
              "      <td>0.000013</td>\n",
              "    </tr>\n",
              "    <tr>\n",
              "      <th>3</th>\n",
              "      <td>00868eeee349e286303706ef0ffd851f39708d37</td>\n",
              "      <td>0.979157</td>\n",
              "      <td>0.001854</td>\n",
              "      <td>0.006930</td>\n",
              "      <td>0.011138</td>\n",
              "      <td>0.000922</td>\n",
              "    </tr>\n",
              "    <tr>\n",
              "      <th>4</th>\n",
              "      <td>00a5cb12d3058dcf2e42f277eee599992db32412</td>\n",
              "      <td>0.004101</td>\n",
              "      <td>0.995708</td>\n",
              "      <td>0.000008</td>\n",
              "      <td>0.000162</td>\n",
              "      <td>0.000020</td>\n",
              "    </tr>\n",
              "  </tbody>\n",
              "</table>\n",
              "</div>"
            ],
            "text/plain": [
              "                                 swahili_id   Kitaifa  ...  Kimataifa  Burudani\n",
              "0  001dd47ac202d9db6624a5ff734a5e7dddafeaf2  0.281077  ...   0.001099  0.000086\n",
              "1  0043d97f7690e9bc02f0ed8bb2b260d1d44bad92  0.510805  ...   0.036546  0.008920\n",
              "2  00579c2307b5c11003d21c40c3ecff5e922c3fd8  0.999087  ...   0.000097  0.000013\n",
              "3  00868eeee349e286303706ef0ffd851f39708d37  0.979157  ...   0.011138  0.000922\n",
              "4  00a5cb12d3058dcf2e42f277eee599992db32412  0.004101  ...   0.000162  0.000020\n",
              "\n",
              "[5 rows x 6 columns]"
            ]
          },
          "metadata": {},
          "execution_count": 36
        }
      ]
    },
    {
      "cell_type": "code",
      "metadata": {
        "colab": {
          "base_uri": "https://localhost:8080/"
        },
        "id": "wVH1HWFhNSYN",
        "outputId": "79c7a3a3-e22a-40b8-e85b-64291e46e5a1"
      },
      "source": [
        "final_sub.info()"
      ],
      "execution_count": 37,
      "outputs": [
        {
          "output_type": "stream",
          "name": "stdout",
          "text": [
            "<class 'pandas.core.frame.DataFrame'>\n",
            "RangeIndex: 1288 entries, 0 to 1287\n",
            "Data columns (total 6 columns):\n",
            " #   Column      Non-Null Count  Dtype  \n",
            "---  ------      --------------  -----  \n",
            " 0   swahili_id  1288 non-null   object \n",
            " 1   Kitaifa     1288 non-null   float32\n",
            " 2   Biashara    1288 non-null   float32\n",
            " 3   michezo     1288 non-null   float32\n",
            " 4   Kimataifa   1288 non-null   float32\n",
            " 5   Burudani    1288 non-null   float32\n",
            "dtypes: float32(5), object(1)\n",
            "memory usage: 35.3+ KB\n"
          ]
        }
      ]
    },
    {
      "cell_type": "code",
      "metadata": {
        "id": "mnoKmiAdMy_v"
      },
      "source": [
        "final_sub.to_csv('sub.csv', index=False)"
      ],
      "execution_count": 38,
      "outputs": []
    },
    {
      "cell_type": "markdown",
      "metadata": {
        "id": "pCpmLOPJ9d7o"
      },
      "source": [
        "## BERT Model"
      ]
    },
    {
      "cell_type": "code",
      "metadata": {
        "id": "17NjLx2mtAMj"
      },
      "source": [
        "# Train\n",
        "x = train['content']\n",
        "y = train['category']"
      ],
      "execution_count": 40,
      "outputs": []
    },
    {
      "cell_type": "markdown",
      "metadata": {
        "id": "TA_pnmGZUJRW"
      },
      "source": [
        "## BERT Model"
      ]
    },
    {
      "cell_type": "code",
      "metadata": {
        "colab": {
          "base_uri": "https://localhost:8080/",
          "height": 206
        },
        "id": "hieNqsn9UKyO",
        "outputId": "7d2d5d49-fe4b-40a0-f6ac-29228f8b5201"
      },
      "source": [
        "# train\n",
        "train.head()"
      ],
      "execution_count": 6,
      "outputs": [
        {
          "output_type": "execute_result",
          "data": {
            "text/html": [
              "<div>\n",
              "<style scoped>\n",
              "    .dataframe tbody tr th:only-of-type {\n",
              "        vertical-align: middle;\n",
              "    }\n",
              "\n",
              "    .dataframe tbody tr th {\n",
              "        vertical-align: top;\n",
              "    }\n",
              "\n",
              "    .dataframe thead th {\n",
              "        text-align: right;\n",
              "    }\n",
              "</style>\n",
              "<table border=\"1\" class=\"dataframe\">\n",
              "  <thead>\n",
              "    <tr style=\"text-align: right;\">\n",
              "      <th></th>\n",
              "      <th>id</th>\n",
              "      <th>content</th>\n",
              "      <th>category</th>\n",
              "    </tr>\n",
              "  </thead>\n",
              "  <tbody>\n",
              "    <tr>\n",
              "      <th>0</th>\n",
              "      <td>SW0</td>\n",
              "      <td>SERIKALI imesema haitakuwa tayari kuona amani...</td>\n",
              "      <td>Kitaifa</td>\n",
              "    </tr>\n",
              "    <tr>\n",
              "      <th>1</th>\n",
              "      <td>SW1</td>\n",
              "      <td>Mkuu wa Mkoa wa Tabora, Aggrey Mwanri amesiti...</td>\n",
              "      <td>Biashara</td>\n",
              "    </tr>\n",
              "    <tr>\n",
              "      <th>2</th>\n",
              "      <td>SW10</td>\n",
              "      <td>SERIKALI imetoa miezi sita kwa taasisi zote z...</td>\n",
              "      <td>Kitaifa</td>\n",
              "    </tr>\n",
              "    <tr>\n",
              "      <th>3</th>\n",
              "      <td>SW100</td>\n",
              "      <td>KAMPUNI ya mchezo wa kubahatisha ya M-bet ime...</td>\n",
              "      <td>michezo</td>\n",
              "    </tr>\n",
              "    <tr>\n",
              "      <th>4</th>\n",
              "      <td>SW1000</td>\n",
              "      <td>WATANZANIA wamekumbushwa kusherehekea sikukuu...</td>\n",
              "      <td>Kitaifa</td>\n",
              "    </tr>\n",
              "  </tbody>\n",
              "</table>\n",
              "</div>"
            ],
            "text/plain": [
              "       id                                            content  category\n",
              "0     SW0   SERIKALI imesema haitakuwa tayari kuona amani...   Kitaifa\n",
              "1     SW1   Mkuu wa Mkoa wa Tabora, Aggrey Mwanri amesiti...  Biashara\n",
              "2    SW10   SERIKALI imetoa miezi sita kwa taasisi zote z...   Kitaifa\n",
              "3   SW100   KAMPUNI ya mchezo wa kubahatisha ya M-bet ime...   michezo\n",
              "4  SW1000   WATANZANIA wamekumbushwa kusherehekea sikukuu...   Kitaifa"
            ]
          },
          "metadata": {},
          "execution_count": 6
        }
      ]
    },
    {
      "cell_type": "code",
      "metadata": {
        "id": "5kSSrqBrUMHb"
      },
      "source": [
        "def bert_preprocess_text(df):\n",
        "  texts = df['content']\n",
        "  new_texts = []\n",
        "  for text in texts:\n",
        "    # Make lower\n",
        "    text = text.lower()\n",
        "\n",
        "    # Remove url\n",
        "    text = re.sub(r'https?:\\/\\/\\S+', '', text)\n",
        "    text = re.sub(r\"www\\.[a-z]?\\.?(com)+|[a-z]+\\.(com)\", '', text)\n",
        "\n",
        "    # Remove punctuation\n",
        "    text = re.sub(r'[^\\w\\s]', '', text)\n",
        "\n",
        "    # Remove placeholders\n",
        "    text = re.sub(r\"\\[video\\]\", '', text)\n",
        "    text = re.sub(r'{link}', '', text)\n",
        "\n",
        "    # HTML and non letter characters\n",
        "    text = re.sub(r'&[a-z]+;', '', text)\n",
        "    text = re.sub(r\"[^a-z\\s\\(\\-:\\)\\\\\\/\\];='#]\", '', text)\n",
        "\n",
        "    # Remove mentions\n",
        "    text = re.sub('@[\\w]+','', text)\n",
        "\n",
        "    new_texts.append(text)\n",
        "\n",
        "  # Tokenize texts\n",
        "  \n",
        "  df['content'] = new_texts\n",
        "\n",
        "  return df"
      ],
      "execution_count": 7,
      "outputs": []
    },
    {
      "cell_type": "code",
      "metadata": {
        "id": "YAYPdMYVU3KK"
      },
      "source": [
        "# Clean texts in train\n",
        "new_train = bert_preprocess_text(train)\n"
      ],
      "execution_count": 8,
      "outputs": []
    },
    {
      "cell_type": "code",
      "metadata": {
        "colab": {
          "base_uri": "https://localhost:8080/",
          "height": 206
        },
        "id": "gc5W0UNYVbdB",
        "outputId": "b9679cfc-3a88-480c-e755-984dd7125626"
      },
      "source": [
        "new_train.head()"
      ],
      "execution_count": 9,
      "outputs": [
        {
          "output_type": "execute_result",
          "data": {
            "text/html": [
              "<div>\n",
              "<style scoped>\n",
              "    .dataframe tbody tr th:only-of-type {\n",
              "        vertical-align: middle;\n",
              "    }\n",
              "\n",
              "    .dataframe tbody tr th {\n",
              "        vertical-align: top;\n",
              "    }\n",
              "\n",
              "    .dataframe thead th {\n",
              "        text-align: right;\n",
              "    }\n",
              "</style>\n",
              "<table border=\"1\" class=\"dataframe\">\n",
              "  <thead>\n",
              "    <tr style=\"text-align: right;\">\n",
              "      <th></th>\n",
              "      <th>id</th>\n",
              "      <th>content</th>\n",
              "      <th>category</th>\n",
              "    </tr>\n",
              "  </thead>\n",
              "  <tbody>\n",
              "    <tr>\n",
              "      <th>0</th>\n",
              "      <td>SW0</td>\n",
              "      <td>serikali imesema haitakuwa tayari kuona amani...</td>\n",
              "      <td>Kitaifa</td>\n",
              "    </tr>\n",
              "    <tr>\n",
              "      <th>1</th>\n",
              "      <td>SW1</td>\n",
              "      <td>mkuu wa mkoa wa tabora aggrey mwanri amesitis...</td>\n",
              "      <td>Biashara</td>\n",
              "    </tr>\n",
              "    <tr>\n",
              "      <th>2</th>\n",
              "      <td>SW10</td>\n",
              "      <td>serikali imetoa miezi sita kwa taasisi zote z...</td>\n",
              "      <td>Kitaifa</td>\n",
              "    </tr>\n",
              "    <tr>\n",
              "      <th>3</th>\n",
              "      <td>SW100</td>\n",
              "      <td>kampuni ya mchezo wa kubahatisha ya mbet imei...</td>\n",
              "      <td>michezo</td>\n",
              "    </tr>\n",
              "    <tr>\n",
              "      <th>4</th>\n",
              "      <td>SW1000</td>\n",
              "      <td>watanzania wamekumbushwa kusherehekea sikukuu...</td>\n",
              "      <td>Kitaifa</td>\n",
              "    </tr>\n",
              "  </tbody>\n",
              "</table>\n",
              "</div>"
            ],
            "text/plain": [
              "       id                                            content  category\n",
              "0     SW0   serikali imesema haitakuwa tayari kuona amani...   Kitaifa\n",
              "1     SW1   mkuu wa mkoa wa tabora aggrey mwanri amesitis...  Biashara\n",
              "2    SW10   serikali imetoa miezi sita kwa taasisi zote z...   Kitaifa\n",
              "3   SW100   kampuni ya mchezo wa kubahatisha ya mbet imei...   michezo\n",
              "4  SW1000   watanzania wamekumbushwa kusherehekea sikukuu...   Kitaifa"
            ]
          },
          "metadata": {},
          "execution_count": 9
        }
      ]
    },
    {
      "cell_type": "code",
      "metadata": {
        "id": "jpGzBWBCVc77"
      },
      "source": [
        "# Split data\n",
        "x = new_train['content'].to_numpy()\n",
        "y = new_train['category'].to_numpy()\n",
        "\n",
        "\n",
        "x_train, x_test, y_train, y_test = train_test_split(x,\n",
        "                                                    y,\n",
        "                                                    train_size=0.9,\n",
        "                                                    random_state=42,\n",
        "                                                    stratify=y)"
      ],
      "execution_count": 16,
      "outputs": []
    },
    {
      "cell_type": "code",
      "metadata": {
        "colab": {
          "base_uri": "https://localhost:8080/"
        },
        "id": "jMo7PAsbZtoJ",
        "outputId": "3a161560-a5ff-49a7-9f03-a2776c6f1b16"
      },
      "source": [
        "names = list(train['category'].unique())\n",
        "\n",
        "names"
      ],
      "execution_count": 12,
      "outputs": [
        {
          "output_type": "execute_result",
          "data": {
            "text/plain": [
              "['Kitaifa', 'Biashara', 'michezo', 'Kimataifa', 'Burudani']"
            ]
          },
          "metadata": {},
          "execution_count": 12
        }
      ]
    },
    {
      "cell_type": "code",
      "metadata": {
        "colab": {
          "base_uri": "https://localhost:8080/",
          "height": 211
        },
        "id": "JlOJRRYrYhtZ",
        "outputId": "d1941bba-6780-407b-8163-4e68fbc9ecb2"
      },
      "source": [
        "# Make data ready for bert model\n",
        "(x_train_bert, y_train_bert), (x_val_bert, y_val_bert), preproc = text.texts_from_array(\n",
        "    x_train = x_train, y_train=y_train,\n",
        "    x_test=x_test, y_test=y_test,\n",
        "    class_names = names,\n",
        "    preprocess_mode='bert',\n",
        "    maxlen=100,\n",
        "    max_features=50000\n",
        ")"
      ],
      "execution_count": 19,
      "outputs": [
        {
          "output_type": "stream",
          "name": "stdout",
          "text": [
            "preprocessing train...\n",
            "language: sw\n"
          ]
        },
        {
          "output_type": "display_data",
          "data": {
            "text/html": [
              "done."
            ],
            "text/plain": [
              "<IPython.core.display.HTML object>"
            ]
          },
          "metadata": {}
        },
        {
          "output_type": "stream",
          "name": "stdout",
          "text": [
            "Is Multi-Label? False\n",
            "preprocessing test...\n",
            "language: sw\n"
          ]
        },
        {
          "output_type": "stream",
          "name": "stderr",
          "text": [
            "/usr/local/lib/python3.7/dist-packages/ktrain/utils.py:616: UserWarning: class_names argument was ignored, as they were extracted from string labels in dataset\n",
            "  if self.get_classes(): warnings.warn('class_names argument was ignored, as they were extracted from string labels in dataset')\n"
          ]
        },
        {
          "output_type": "display_data",
          "data": {
            "text/html": [
              "done."
            ],
            "text/plain": [
              "<IPython.core.display.HTML object>"
            ]
          },
          "metadata": {}
        },
        {
          "output_type": "stream",
          "name": "stdout",
          "text": [
            "task: text classification\n"
          ]
        }
      ]
    },
    {
      "cell_type": "code",
      "metadata": {
        "colab": {
          "base_uri": "https://localhost:8080/"
        },
        "id": "wR2tdJBJbSef",
        "outputId": "3c63edd9-0e9a-451b-e17b-6a7d5c127c56"
      },
      "source": [
        "# Create model\n",
        "model = text.text_classifier('bert',\n",
        "                             train_data=(x_train_bert, y_train_bert),\n",
        "                             preproc=preproc)\n",
        "\n",
        "learner = ktrain.get_learner(model,\n",
        "                             train_data=(x_train_bert, y_train_bert),\n",
        "                             val_data=(x_val_bert, y_val_bert))\n"
      ],
      "execution_count": 20,
      "outputs": [
        {
          "output_type": "stream",
          "name": "stdout",
          "text": [
            "Is Multi-Label? False\n",
            "maxlen is 100\n",
            "done.\n"
          ]
        }
      ]
    },
    {
      "cell_type": "code",
      "metadata": {
        "colab": {
          "base_uri": "https://localhost:8080/"
        },
        "id": "1ZnbOkB9c7ty",
        "outputId": "fadbfce5-3fea-4adc-9ca7-a30693fdcca6"
      },
      "source": [
        "# Find best learning rate\n",
        "learner.lr_find()"
      ],
      "execution_count": 21,
      "outputs": [
        {
          "output_type": "stream",
          "name": "stdout",
          "text": [
            "simulating training for different learning rates... this may take a few moments...\n"
          ]
        },
        {
          "output_type": "stream",
          "name": "stderr",
          "text": [
            "/usr/local/lib/python3.7/dist-packages/keras/utils/generic_utils.py:497: CustomMaskWarning: Custom mask layers require a config and must override get_config. When loading, the custom mask layer must be passed to the custom_objects argument.\n",
            "  category=CustomMaskWarning)\n"
          ]
        },
        {
          "output_type": "stream",
          "name": "stdout",
          "text": [
            "Epoch 1/1024\n",
            "145/145 [==============================] - 214s 1s/step - loss: 1.6003 - accuracy: 0.2205\n",
            "Epoch 2/1024\n",
            "145/145 [==============================] - 190s 1s/step - loss: 1.1418 - accuracy: 0.5510\n",
            "Epoch 3/1024\n",
            "145/145 [==============================] - 188s 1s/step - loss: 0.6234 - accuracy: 0.7689\n",
            "Epoch 4/1024\n",
            "145/145 [==============================] - 188s 1s/step - loss: 0.4715 - accuracy: 0.8300\n",
            "Epoch 5/1024\n",
            "145/145 [==============================] - 190s 1s/step - loss: 0.4516 - accuracy: 0.8410\n",
            "Epoch 6/1024\n",
            "145/145 [==============================] - 190s 1s/step - loss: 0.7238 - accuracy: 0.7126\n",
            "Epoch 7/1024\n",
            "145/145 [==============================] - 188s 1s/step - loss: 1.2432 - accuracy: 0.3696\n",
            "Epoch 8/1024\n",
            "145/145 [==============================] - 187s 1s/step - loss: 1.6367 - accuracy: 0.3461\n",
            "Epoch 9/1024\n",
            "145/145 [==============================] - 28s 188ms/step - loss: 2.2166 - accuracy: 0.3068\n",
            "\n",
            "\n",
            "done.\n",
            "Please invoke the Learner.lr_plot() method to visually inspect the loss plot to help identify the maximal learning rate associated with falling loss.\n"
          ]
        }
      ]
    },
    {
      "cell_type": "code",
      "metadata": {
        "colab": {
          "base_uri": "https://localhost:8080/",
          "height": 283
        },
        "id": "VhfrTAzIjhUQ",
        "outputId": "4da6dc65-39af-44d1-9c17-38a196a700ed"
      },
      "source": [
        "learner.lr_plot()"
      ],
      "execution_count": 22,
      "outputs": [
        {
          "output_type": "display_data",
          "data": {
            "image/png": "[encoded data removed]",
            "text/plain": [
              "<Figure size 432x288 with 1 Axes>"
            ]
          },
          "metadata": {
            "needs_background": "light"
          }
        }
      ]
    },
    {
      "cell_type": "code",
      "metadata": {
        "colab": {
          "base_uri": "https://localhost:8080/"
        },
        "id": "63kGDe8kdOBL",
        "outputId": "905d779c-ff9e-465d-8789-d634b0f3ce07"
      },
      "source": [
        "learner.autofit(1e-4)"
      ],
      "execution_count": 23,
      "outputs": [
        {
          "output_type": "stream",
          "name": "stdout",
          "text": [
            "early_stopping automatically enabled at patience=5\n",
            "reduce_on_plateau automatically enabled at patience=2\n",
            "\n",
            "\n",
            "begin training using triangular learning rate policy with max lr of 0.0001...\n",
            "Epoch 1/1024\n",
            "145/145 [==============================] - 224s 1s/step - loss: 0.7853 - accuracy: 0.6712 - val_loss: 0.4820 - val_accuracy: 0.8450\n",
            "Epoch 2/1024\n",
            "145/145 [==============================] - 196s 1s/step - loss: 0.4763 - accuracy: 0.8276 - val_loss: 0.4536 - val_accuracy: 0.8430\n",
            "Epoch 3/1024\n",
            "145/145 [==============================] - 196s 1s/step - loss: 0.4041 - accuracy: 0.8539 - val_loss: 0.4375 - val_accuracy: 0.8372\n",
            "Epoch 4/1024\n",
            "145/145 [==============================] - 196s 1s/step - loss: 0.3589 - accuracy: 0.8706 - val_loss: 0.4035 - val_accuracy: 0.8643\n",
            "Epoch 5/1024\n",
            "145/145 [==============================] - 196s 1s/step - loss: 0.3148 - accuracy: 0.8826 - val_loss: 0.4152 - val_accuracy: 0.8469\n",
            "Epoch 6/1024\n",
            "145/145 [==============================] - 196s 1s/step - loss: 0.2912 - accuracy: 0.8939 - val_loss: 0.4139 - val_accuracy: 0.8682\n",
            "\n",
            "Epoch 00006: Reducing Max LR on Plateau: new max lr will be 5e-05 (if not early_stopping).\n",
            "Epoch 7/1024\n",
            "145/145 [==============================] - 195s 1s/step - loss: 0.2074 - accuracy: 0.9271 - val_loss: 0.4549 - val_accuracy: 0.8469\n",
            "Epoch 8/1024\n",
            "145/145 [==============================] - 196s 1s/step - loss: 0.1675 - accuracy: 0.9450 - val_loss: 0.4564 - val_accuracy: 0.8527\n",
            "\n",
            "Epoch 00008: Reducing Max LR on Plateau: new max lr will be 2.5e-05 (if not early_stopping).\n",
            "Epoch 9/1024\n",
            "145/145 [==============================] - 196s 1s/step - loss: 0.1198 - accuracy: 0.9599 - val_loss: 0.5172 - val_accuracy: 0.8643\n",
            "Restoring model weights from the end of the best epoch.\n",
            "Epoch 00009: early stopping\n",
            "Weights from best epoch have been loaded into model.\n"
          ]
        },
        {
          "output_type": "execute_result",
          "data": {
            "text/plain": [
              "<keras.callbacks.History at 0x7f88c2dcb250>"
            ]
          },
          "metadata": {},
          "execution_count": 23
        }
      ]
    },
    {
      "cell_type": "code",
      "metadata": {
        "id": "y93bwIqHgSp7"
      },
      "source": [
        "# Predict\n",
        "\n",
        "# GEt predictor\n",
        "predictor = ktrain.get_predictor(learner.model, preproc)"
      ],
      "execution_count": 24,
      "outputs": []
    },
    {
      "cell_type": "code",
      "metadata": {
        "id": "BaOVMTgxg2GU"
      },
      "source": [
        "# Make test\n",
        "new_test = bert_preprocess_text(test)"
      ],
      "execution_count": 25,
      "outputs": []
    },
    {
      "cell_type": "code",
      "metadata": {
        "id": "SwZHQD8KkJ0z"
      },
      "source": [
        "# GEt predictions\n",
        "preds = predictor.predict(new_test['content'].to_numpy(), return_proba=True)"
      ],
      "execution_count": 26,
      "outputs": []
    },
    {
      "cell_type": "code",
      "metadata": {
        "colab": {
          "base_uri": "https://localhost:8080/"
        },
        "id": "uclGfV6jnZj5",
        "outputId": "bbba930c-52e2-49df-f9c5-0be6ae47b89f"
      },
      "source": [
        "preds"
      ],
      "execution_count": 27,
      "outputs": [
        {
          "output_type": "execute_result",
          "data": {
            "text/plain": [
              "array([[1.7271407e-02, 2.8311901e-04, 2.2723589e-03, 9.7666842e-01,\n",
              "        3.5047275e-03],\n",
              "       [1.1857701e-03, 1.9194507e-03, 8.3148881e-04, 2.2962786e-02,\n",
              "        9.7310048e-01],\n",
              "       [6.3875794e-01, 1.0388780e-03, 3.1494182e-03, 3.5293886e-01,\n",
              "        4.1148984e-03],\n",
              "       ...,\n",
              "       [1.3930105e-03, 2.2052089e-03, 9.8635769e-04, 2.2696584e-02,\n",
              "        9.7271889e-01],\n",
              "       [1.5649616e-03, 1.8122735e-03, 7.7035645e-04, 2.1188695e-02,\n",
              "        9.7466373e-01],\n",
              "       [2.4308918e-02, 2.4990120e-04, 1.1976465e-03, 9.6767241e-01,\n",
              "        6.5710847e-03]], dtype=float32)"
            ]
          },
          "metadata": {},
          "execution_count": 27
        }
      ]
    },
    {
      "cell_type": "code",
      "metadata": {
        "colab": {
          "base_uri": "https://localhost:8080/"
        },
        "id": "UtVFjbBZq5Dr",
        "outputId": "ee23dfbc-f679-48c5-e394-5e5945febe8e"
      },
      "source": [
        "predictor.get_classes()"
      ],
      "execution_count": 29,
      "outputs": [
        {
          "output_type": "execute_result",
          "data": {
            "text/plain": [
              "['Biashara', 'Burudani', 'Kimataifa', 'Kitaifa', 'michezo']"
            ]
          },
          "metadata": {},
          "execution_count": 29
        }
      ]
    },
    {
      "cell_type": "code",
      "metadata": {
        "id": "ZV3CdV1AkWh0"
      },
      "source": [
        "# Create submission file\n",
        "sub = pd.DataFrame(preds, columns = predictor.get_classes())"
      ],
      "execution_count": 30,
      "outputs": []
    },
    {
      "cell_type": "code",
      "metadata": {
        "colab": {
          "base_uri": "https://localhost:8080/",
          "height": 206
        },
        "id": "1ZosayXzrBZw",
        "outputId": "0249bc12-1e62-4a09-9c4f-1bd8489cb2b7"
      },
      "source": [
        "sub.head()"
      ],
      "execution_count": 31,
      "outputs": [
        {
          "output_type": "execute_result",
          "data": {
            "text/html": [
              "<div>\n",
              "<style scoped>\n",
              "    .dataframe tbody tr th:only-of-type {\n",
              "        vertical-align: middle;\n",
              "    }\n",
              "\n",
              "    .dataframe tbody tr th {\n",
              "        vertical-align: top;\n",
              "    }\n",
              "\n",
              "    .dataframe thead th {\n",
              "        text-align: right;\n",
              "    }\n",
              "</style>\n",
              "<table border=\"1\" class=\"dataframe\">\n",
              "  <thead>\n",
              "    <tr style=\"text-align: right;\">\n",
              "      <th></th>\n",
              "      <th>Biashara</th>\n",
              "      <th>Burudani</th>\n",
              "      <th>Kimataifa</th>\n",
              "      <th>Kitaifa</th>\n",
              "      <th>michezo</th>\n",
              "    </tr>\n",
              "  </thead>\n",
              "  <tbody>\n",
              "    <tr>\n",
              "      <th>0</th>\n",
              "      <td>0.017271</td>\n",
              "      <td>0.000283</td>\n",
              "      <td>0.002272</td>\n",
              "      <td>0.976668</td>\n",
              "      <td>0.003505</td>\n",
              "    </tr>\n",
              "    <tr>\n",
              "      <th>1</th>\n",
              "      <td>0.001186</td>\n",
              "      <td>0.001919</td>\n",
              "      <td>0.000831</td>\n",
              "      <td>0.022963</td>\n",
              "      <td>0.973100</td>\n",
              "    </tr>\n",
              "    <tr>\n",
              "      <th>2</th>\n",
              "      <td>0.638758</td>\n",
              "      <td>0.001039</td>\n",
              "      <td>0.003149</td>\n",
              "      <td>0.352939</td>\n",
              "      <td>0.004115</td>\n",
              "    </tr>\n",
              "    <tr>\n",
              "      <th>3</th>\n",
              "      <td>0.011510</td>\n",
              "      <td>0.000884</td>\n",
              "      <td>0.010062</td>\n",
              "      <td>0.968256</td>\n",
              "      <td>0.009287</td>\n",
              "    </tr>\n",
              "    <tr>\n",
              "      <th>4</th>\n",
              "      <td>0.345723</td>\n",
              "      <td>0.000493</td>\n",
              "      <td>0.002054</td>\n",
              "      <td>0.649202</td>\n",
              "      <td>0.002528</td>\n",
              "    </tr>\n",
              "  </tbody>\n",
              "</table>\n",
              "</div>"
            ],
            "text/plain": [
              "   Biashara  Burudani  Kimataifa   Kitaifa   michezo\n",
              "0  0.017271  0.000283   0.002272  0.976668  0.003505\n",
              "1  0.001186  0.001919   0.000831  0.022963  0.973100\n",
              "2  0.638758  0.001039   0.003149  0.352939  0.004115\n",
              "3  0.011510  0.000884   0.010062  0.968256  0.009287\n",
              "4  0.345723  0.000493   0.002054  0.649202  0.002528"
            ]
          },
          "metadata": {},
          "execution_count": 31
        }
      ]
    },
    {
      "cell_type": "code",
      "metadata": {
        "colab": {
          "base_uri": "https://localhost:8080/",
          "height": 423
        },
        "id": "11G1P_-drC1w",
        "outputId": "4bea5dab-7c3e-4f25-9540-d20ab04baead"
      },
      "source": [
        "submission"
      ],
      "execution_count": 32,
      "outputs": [
        {
          "output_type": "execute_result",
          "data": {
            "text/html": [
              "<div>\n",
              "<style scoped>\n",
              "    .dataframe tbody tr th:only-of-type {\n",
              "        vertical-align: middle;\n",
              "    }\n",
              "\n",
              "    .dataframe tbody tr th {\n",
              "        vertical-align: top;\n",
              "    }\n",
              "\n",
              "    .dataframe thead th {\n",
              "        text-align: right;\n",
              "    }\n",
              "</style>\n",
              "<table border=\"1\" class=\"dataframe\">\n",
              "  <thead>\n",
              "    <tr style=\"text-align: right;\">\n",
              "      <th></th>\n",
              "      <th>swahili_id</th>\n",
              "      <th>kitaifa</th>\n",
              "      <th>michezo</th>\n",
              "      <th>biashara</th>\n",
              "      <th>kimataifa</th>\n",
              "      <th>burudani</th>\n",
              "    </tr>\n",
              "  </thead>\n",
              "  <tbody>\n",
              "    <tr>\n",
              "      <th>0</th>\n",
              "      <td>001dd47ac202d9db6624a5ff734a5e7dddafeaf2</td>\n",
              "      <td>0</td>\n",
              "      <td>0</td>\n",
              "      <td>0</td>\n",
              "      <td>0</td>\n",
              "      <td>0</td>\n",
              "    </tr>\n",
              "    <tr>\n",
              "      <th>1</th>\n",
              "      <td>0043d97f7690e9bc02f0ed8bb2b260d1d44bad92</td>\n",
              "      <td>0</td>\n",
              "      <td>0</td>\n",
              "      <td>0</td>\n",
              "      <td>0</td>\n",
              "      <td>0</td>\n",
              "    </tr>\n",
              "    <tr>\n",
              "      <th>2</th>\n",
              "      <td>00579c2307b5c11003d21c40c3ecff5e922c3fd8</td>\n",
              "      <td>0</td>\n",
              "      <td>0</td>\n",
              "      <td>0</td>\n",
              "      <td>0</td>\n",
              "      <td>0</td>\n",
              "    </tr>\n",
              "    <tr>\n",
              "      <th>3</th>\n",
              "      <td>00868eeee349e286303706ef0ffd851f39708d37</td>\n",
              "      <td>0</td>\n",
              "      <td>0</td>\n",
              "      <td>0</td>\n",
              "      <td>0</td>\n",
              "      <td>0</td>\n",
              "    </tr>\n",
              "    <tr>\n",
              "      <th>4</th>\n",
              "      <td>00a5cb12d3058dcf2e42f277eee599992db32412</td>\n",
              "      <td>0</td>\n",
              "      <td>0</td>\n",
              "      <td>0</td>\n",
              "      <td>0</td>\n",
              "      <td>0</td>\n",
              "    </tr>\n",
              "    <tr>\n",
              "      <th>...</th>\n",
              "      <td>...</td>\n",
              "      <td>...</td>\n",
              "      <td>...</td>\n",
              "      <td>...</td>\n",
              "      <td>...</td>\n",
              "      <td>...</td>\n",
              "    </tr>\n",
              "    <tr>\n",
              "      <th>1283</th>\n",
              "      <td>feb4b0ae88524c9cee3e50f2301d84a235f3c607</td>\n",
              "      <td>0</td>\n",
              "      <td>0</td>\n",
              "      <td>0</td>\n",
              "      <td>0</td>\n",
              "      <td>0</td>\n",
              "    </tr>\n",
              "    <tr>\n",
              "      <th>1284</th>\n",
              "      <td>fecf3f14f47237e02721ed4baa4eb6c11abd239f</td>\n",
              "      <td>0</td>\n",
              "      <td>0</td>\n",
              "      <td>0</td>\n",
              "      <td>0</td>\n",
              "      <td>0</td>\n",
              "    </tr>\n",
              "    <tr>\n",
              "      <th>1285</th>\n",
              "      <td>feed09e13586d12139cd59bc20996a4d29706606</td>\n",
              "      <td>0</td>\n",
              "      <td>0</td>\n",
              "      <td>0</td>\n",
              "      <td>0</td>\n",
              "      <td>0</td>\n",
              "    </tr>\n",
              "    <tr>\n",
              "      <th>1286</th>\n",
              "      <td>ffc0bca6fde8fa0cce1ac3a7b0d746603d441bf8</td>\n",
              "      <td>0</td>\n",
              "      <td>0</td>\n",
              "      <td>0</td>\n",
              "      <td>0</td>\n",
              "      <td>0</td>\n",
              "    </tr>\n",
              "    <tr>\n",
              "      <th>1287</th>\n",
              "      <td>fffdd6f356ed5b8dba21717f60c53f6520e650ab</td>\n",
              "      <td>0</td>\n",
              "      <td>0</td>\n",
              "      <td>0</td>\n",
              "      <td>0</td>\n",
              "      <td>0</td>\n",
              "    </tr>\n",
              "  </tbody>\n",
              "</table>\n",
              "<p>1288 rows × 6 columns</p>\n",
              "</div>"
            ],
            "text/plain": [
              "                                    swahili_id  kitaifa  ...  kimataifa  burudani\n",
              "0     001dd47ac202d9db6624a5ff734a5e7dddafeaf2        0  ...          0         0\n",
              "1     0043d97f7690e9bc02f0ed8bb2b260d1d44bad92        0  ...          0         0\n",
              "2     00579c2307b5c11003d21c40c3ecff5e922c3fd8        0  ...          0         0\n",
              "3     00868eeee349e286303706ef0ffd851f39708d37        0  ...          0         0\n",
              "4     00a5cb12d3058dcf2e42f277eee599992db32412        0  ...          0         0\n",
              "...                                        ...      ...  ...        ...       ...\n",
              "1283  feb4b0ae88524c9cee3e50f2301d84a235f3c607        0  ...          0         0\n",
              "1284  fecf3f14f47237e02721ed4baa4eb6c11abd239f        0  ...          0         0\n",
              "1285  feed09e13586d12139cd59bc20996a4d29706606        0  ...          0         0\n",
              "1286  ffc0bca6fde8fa0cce1ac3a7b0d746603d441bf8        0  ...          0         0\n",
              "1287  fffdd6f356ed5b8dba21717f60c53f6520e650ab        0  ...          0         0\n",
              "\n",
              "[1288 rows x 6 columns]"
            ]
          },
          "metadata": {},
          "execution_count": 32
        }
      ]
    },
    {
      "cell_type": "code",
      "metadata": {
        "id": "7Kt0ew6DrGSw"
      },
      "source": [
        "submission['kitaifa'] = sub['Kitaifa']\n",
        "submission['michezo'] = sub['michezo']\n",
        "submission['biashara'] = sub['Biashara']\n",
        "submission['kimataifa'] = sub['Kimataifa']\n",
        "submission['burudani'] = sub['Burudani']"
      ],
      "execution_count": 33,
      "outputs": []
    },
    {
      "cell_type": "code",
      "metadata": {
        "colab": {
          "base_uri": "https://localhost:8080/",
          "height": 206
        },
        "id": "448veZiItwX4",
        "outputId": "a1f89407-59fd-4dc3-bc92-b0cf9d8495ae"
      },
      "source": [
        "submission.head()"
      ],
      "execution_count": 34,
      "outputs": [
        {
          "output_type": "execute_result",
          "data": {
            "text/html": [
              "<div>\n",
              "<style scoped>\n",
              "    .dataframe tbody tr th:only-of-type {\n",
              "        vertical-align: middle;\n",
              "    }\n",
              "\n",
              "    .dataframe tbody tr th {\n",
              "        vertical-align: top;\n",
              "    }\n",
              "\n",
              "    .dataframe thead th {\n",
              "        text-align: right;\n",
              "    }\n",
              "</style>\n",
              "<table border=\"1\" class=\"dataframe\">\n",
              "  <thead>\n",
              "    <tr style=\"text-align: right;\">\n",
              "      <th></th>\n",
              "      <th>swahili_id</th>\n",
              "      <th>kitaifa</th>\n",
              "      <th>michezo</th>\n",
              "      <th>biashara</th>\n",
              "      <th>kimataifa</th>\n",
              "      <th>burudani</th>\n",
              "    </tr>\n",
              "  </thead>\n",
              "  <tbody>\n",
              "    <tr>\n",
              "      <th>0</th>\n",
              "      <td>001dd47ac202d9db6624a5ff734a5e7dddafeaf2</td>\n",
              "      <td>0.976668</td>\n",
              "      <td>0.003505</td>\n",
              "      <td>0.017271</td>\n",
              "      <td>0.002272</td>\n",
              "      <td>0.000283</td>\n",
              "    </tr>\n",
              "    <tr>\n",
              "      <th>1</th>\n",
              "      <td>0043d97f7690e9bc02f0ed8bb2b260d1d44bad92</td>\n",
              "      <td>0.022963</td>\n",
              "      <td>0.973100</td>\n",
              "      <td>0.001186</td>\n",
              "      <td>0.000831</td>\n",
              "      <td>0.001919</td>\n",
              "    </tr>\n",
              "    <tr>\n",
              "      <th>2</th>\n",
              "      <td>00579c2307b5c11003d21c40c3ecff5e922c3fd8</td>\n",
              "      <td>0.352939</td>\n",
              "      <td>0.004115</td>\n",
              "      <td>0.638758</td>\n",
              "      <td>0.003149</td>\n",
              "      <td>0.001039</td>\n",
              "    </tr>\n",
              "    <tr>\n",
              "      <th>3</th>\n",
              "      <td>00868eeee349e286303706ef0ffd851f39708d37</td>\n",
              "      <td>0.968256</td>\n",
              "      <td>0.009287</td>\n",
              "      <td>0.011510</td>\n",
              "      <td>0.010062</td>\n",
              "      <td>0.000884</td>\n",
              "    </tr>\n",
              "    <tr>\n",
              "      <th>4</th>\n",
              "      <td>00a5cb12d3058dcf2e42f277eee599992db32412</td>\n",
              "      <td>0.649202</td>\n",
              "      <td>0.002528</td>\n",
              "      <td>0.345723</td>\n",
              "      <td>0.002054</td>\n",
              "      <td>0.000493</td>\n",
              "    </tr>\n",
              "  </tbody>\n",
              "</table>\n",
              "</div>"
            ],
            "text/plain": [
              "                                 swahili_id   kitaifa  ...  kimataifa  burudani\n",
              "0  001dd47ac202d9db6624a5ff734a5e7dddafeaf2  0.976668  ...   0.002272  0.000283\n",
              "1  0043d97f7690e9bc02f0ed8bb2b260d1d44bad92  0.022963  ...   0.000831  0.001919\n",
              "2  00579c2307b5c11003d21c40c3ecff5e922c3fd8  0.352939  ...   0.003149  0.001039\n",
              "3  00868eeee349e286303706ef0ffd851f39708d37  0.968256  ...   0.010062  0.000884\n",
              "4  00a5cb12d3058dcf2e42f277eee599992db32412  0.649202  ...   0.002054  0.000493\n",
              "\n",
              "[5 rows x 6 columns]"
            ]
          },
          "metadata": {},
          "execution_count": 34
        }
      ]
    },
    {
      "cell_type": "code",
      "metadata": {
        "id": "gd6mFh8CtyUB"
      },
      "source": [
        "# Save to CSV\n",
        "submission.to_csv('submission.csv', index=False)"
      ],
      "execution_count": 36,
      "outputs": []
    },
    {
      "cell_type": "markdown",
      "metadata": {
        "id": "YOcfnFSFvZZU"
      },
      "source": [
        "The model obtains a logloss score of **0.362503845218691** On the competition earning me position 11."
      ]
    },
    {
      "cell_type": "code",
      "metadata": {
        "id": "Juzu7lw2vZHM"
      },
      "source": [
        ""
      ],
      "execution_count": null,
      "outputs": []
    }
  ]
}